{
 "cells": [
  {
   "cell_type": "markdown",
   "metadata": {},
   "source": [
    "### Naive Bayes"
   ]
  },
  {
   "cell_type": "code",
   "execution_count": null,
   "metadata": {
    "collapsed": true
   },
   "outputs": [],
   "source": [
    "%%writefile NaiveBayes/NaiveBayesModel.py\n",
    "#!/usr/bin/env python\n",
    "from math import log\n",
    "from math import exp\n",
    "\n",
    "class NaiveBayesModel(object):\n",
    "\n",
    "    def __init__(self, modelFile):\n",
    "        self.model = {}\n",
    "        recordStrs = [s.split('\\n')[0].split('\\t') for s in open(modelFile).readlines()]\n",
    "        for word, statsStr in recordStrs:\n",
    "            self.model[word] = map(float, statsStr.split(\",\"))\n",
    "        #Class priors: counts and probs (Pr(Class =0) and Pr(Class =1))\n",
    "        self.c0, self.c1, self.prClass0, self.prClass1 = map(float, self.model[\"ClassPriors\"])\n",
    "\n",
    "    def classify(self, doc):\n",
    "        # Posterior Probabilities Pr(Class=0| Doc) and Pr(Class=1| Doc) \n",
    "        # Naive Bayes inference Pr(Class=0| Doc)  ~ Pr(Class=0) * Pr(Class=0| word1) * Pr(Class=0| word2)...... \n",
    "        PrClass0GivenDoc = self.prClass0  \n",
    "        PrClass1GivenDoc = self.prClass1\n",
    "        for word in doc:\n",
    "            PrClass0GivenDoc *= self.model[word][2]\n",
    "            PrClass1GivenDoc *= self.model[word][3]\n",
    "        return([PrClass0GivenDoc, PrClass1GivenDoc])\n",
    " \n",
    "    # the natural log based version of this \n",
    "    # helps avoid underflow issues\n",
    "    def classifyInLogs(self, doc):       \n",
    "        # Posterior Probabilities Pr(Class=0| Doc) and Pr(Class=1| Doc) \n",
    "        # Naive Bayes inference Pr(Class=0| Doc)  ~ Pr(Class=0) * Pr(Class=0| word1) * Pr(Class=0| word2)...... \n",
    "        PrClass0GivenDoc = log(self.prClass0)  \n",
    "        PrClass1GivenDoc = log(self.prClass1)\n",
    "        for word in doc:  #NOTE: Improvement: on loading one should convert probs to log probs!\n",
    "            c0 = self.model[word][2]\n",
    "            c1 = self.model[word][3]\n",
    "            if c0 != 0:\n",
    "                PrClass0GivenDoc += log(c0)\n",
    "            else:\n",
    "                PrClass0GivenDoc = float(\"-inf\")\n",
    "            if c1 != 0:\n",
    "                PrClass1GivenDoc += log(c1)\n",
    "            else:\n",
    "                PrClass1GivenDoc = float(\"-inf\")\n",
    "                \n",
    "        return([PrClass0GivenDoc, PrClass1GivenDoc])\n",
    "        \n",
    "    def printModel(self):\n",
    "        print \"NaiveBayes Model starts here\\n----------------\"\n",
    "        print \"PRIORS: prClass0=%04.3f, prClass1=%04.3f\" % (self.prClass0, self.prClass1)\n",
    "        for word, stats in self.model.items():\n",
    "            print \"Pr(\",word, \"| Class)\", stats  #Pr(Class=0| Doc)  all stats\n",
    "        print \"NaiveBayes Model ENDS here\\n----------------\""
   ]
  },
  {
   "cell_type": "code",
   "execution_count": null,
   "metadata": {
    "collapsed": true
   },
   "outputs": [],
   "source": [
    "%%writefile NaiveBayes/mapper_classify.py\n",
    "#!/usr/bin/env python\n",
    "from NaiveBayesModel import NaiveBayesModel\n",
    "import sys, re, string\n",
    "from math import exp\n",
    "# Init mapper phase "
   ]
  },
  {
   "cell_type": "code",
   "execution_count": null,
   "metadata": {
    "collapsed": true
   },
   "outputs": [],
   "source": []
  }
 ],
 "metadata": {
  "kernelspec": {
   "display_name": "Python 3",
   "language": "python",
   "name": "python3"
  },
  "language_info": {
   "codemirror_mode": {
    "name": "ipython",
    "version": 3
   },
   "file_extension": ".py",
   "mimetype": "text/x-python",
   "name": "python",
   "nbconvert_exporter": "python",
   "pygments_lexer": "ipython3",
   "version": "3.6.2"
  }
 },
 "nbformat": 4,
 "nbformat_minor": 2
}
