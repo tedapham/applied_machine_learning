{
 "cells": [
  {
   "cell_type": "code",
   "execution_count": null,
   "metadata": {},
   "outputs": [],
   "source": [
    "%%writefile longest5gram.py\n",
    "#!~/anaconda2/bin/python\n",
    "# -*- coding: utf-8 -*-\n",
    "\n",
    "import re\n",
    "import mrjob\n",
    "from mrjob.job import MRJob\n",
    "from mrjob.step import MRStep\n",
    "\n",
    "class longest5gram(MRJob):\n",
    "    SORT_VALUES = True\n",
    "    def steps(self):\n",
    "        return [MRStep(mapper = self.mapper,\n",
    "                       reducer = self.reducer,\n",
    "                       jobconf = {#'mapreduce.job.maps': '100',\n",
    "                                  'mapreduce.job.reduces': '50',\n",
    "                                  #'mapreduce.map.memory':'4000',\n",
    "                                  #'mapreduce.reduce.memory':'4000',\n",
    "                                  'mapreduce.job.output.key.comparator.class': 'org.apache.hadoop.mapred.lib.KeyFieldBasedComparator',\n",
    "                                  'mapreduce.partition.keycomparator.options': '-k1,1nr'})]\n",
    "    \n",
    "    \n",
    "    def mapper(self, _,line):\n",
    "        line = line.strip()\n",
    "        line = line.split(\"\\t\")\n",
    "        \n",
    "        #--Get n_gram and count\n",
    "        n_gram = line[0]\n",
    "        words = n_gram.lower().split()\n",
    "        \n",
    "        length = 0\n",
    "        \n",
    "        for word in words:\n",
    "            length += len(word)\n",
    "       \n",
    "        yield length, n_gram\n",
    "        \n",
    "    def reducer(self, length, n_gram):\n",
    "        \n",
    "        yield length, list(n_gram)\n",
    "    \n",
    "    # END STUDENT CODE 5.4.1.A\n",
    "    \n",
    "if __name__ == '__main__':\n",
    "    longest5gram.run()"
   ]
  },
  {
   "cell_type": "code",
   "execution_count": 2,
   "metadata": {},
   "outputs": [],
   "source": [
    "!mkdir dev"
   ]
  },
  {
   "cell_type": "code",
   "execution_count": 3,
   "metadata": {},
   "outputs": [
    {
     "name": "stdout",
     "output_type": "stream",
     "text": [
      "Writing dev/chineseExample.txt\n"
     ]
    }
   ],
   "source": [
    "%%writefile dev/chineseExample.txt\n",
    "D1\t1\tChinese Beijing\tChinese\n",
    "D2\t1\tChinese Chinese\tShanghai\n",
    "D3\t1\tChinese\tMacao\n",
    "D4\t0\tTokyo Japan\tChinese\n",
    "D5\t0\tChinese Chinese\tChinese Tokyo Japan"
   ]
  },
  {
   "cell_type": "code",
   "execution_count": null,
   "metadata": {},
   "outputs": [],
   "source": [
    "%%writefile dev/naivebayes.py\n",
    "#!~/anaconda2/bin/python\n",
    "# -*- coding: utf-8 -*-\n",
    "\n",
    "import re\n",
    "import mrjob\n",
    "from mrjob.job import MRJob\n",
    "from mrjob.step import MRStep\n",
    "from collections import defaultdict\n",
    "\n",
    "class nb(MRJob):\n",
    "    SORT_VALUES = True\n",
    "    def steps(self):\n",
    "        return [MRStep(mapper = self.mapper,\n",
    "                       reducer = self.reducer#,\n",
    "                       #jobconf = {#'mapreduce.job.maps': '100',\n",
    "                                  #'mapreduce.job.reduces': '50',\n",
    "                                  #'mapreduce.job.output.key.comparator.class': 'org.apache.hadoop.mapred.lib.KeyFieldBasedComparator',\n",
    "                                  #'mapreduce.partition.keycomparator.options': '-k1,1nr'}\n",
    "                           )]\n",
    "    \n",
    "    \n",
    "    def mapper(self, _,line):\n",
    "        line = line.strip()\n",
    "        line = line.split(\"\\t\")\n",
    "        \n",
    "        docID, docClass, title = line[0:3]\n",
    "        \n",
    "        if len(line)==4:\n",
    "            body = line[3]\n",
    "        else:\n",
    "            body = \"\"\n",
    "            \n",
    "        ###----Added lower to title\n",
    "        emailStr = regex.sub(' ', title.lower() + \" \" +body.lower()) #replace each punctuation with a space\n",
    "        emailStr = re.sub( '\\s+', ' ', emailStr )            # replace multiple spaces with a space\n",
    "        # split the line into words\n",
    "        words = emailStr.split()\n",
    "        \n",
    "        worddict = defaultdict(int)\n",
    "        for word in words:\n",
    "            worddict[word]+=1\n",
    "        \n",
    "        for w in worddict:\n",
    "            yield , n_gram\n",
    "        \n",
    "    def reducer(self, length, n_gram):\n",
    "        \n",
    "        yield length, list(n_gram)\n",
    "    \n",
    "    # END STUDENT CODE 5.4.1.A\n",
    "    \n",
    "if __name__ == '__main__':\n",
    "    longest5gram.run()"
   ]
  }
 ],
 "metadata": {
  "kernelspec": {
   "display_name": "Python 2",
   "language": "python",
   "name": "python2"
  },
  "language_info": {
   "codemirror_mode": {
    "name": "ipython",
    "version": 2
   },
   "file_extension": ".py",
   "mimetype": "text/x-python",
   "name": "python",
   "nbconvert_exporter": "python",
   "pygments_lexer": "ipython2",
   "version": "2.7.13"
  },
  "toc": {
   "nav_menu": {},
   "number_sections": true,
   "sideBar": true,
   "skip_h1_title": false,
   "toc_cell": false,
   "toc_position": {},
   "toc_section_display": "block",
   "toc_window_display": false
  }
 },
 "nbformat": 4,
 "nbformat_minor": 2
}
