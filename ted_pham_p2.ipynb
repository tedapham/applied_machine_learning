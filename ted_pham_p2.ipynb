{
 "cells": [
  {
   "cell_type": "markdown",
   "metadata": {},
   "source": [
    "# Project 2: Topic Classification"
   ]
  },
  {
   "cell_type": "markdown",
   "metadata": {},
   "source": [
    "In this project, you'll work with text data from newsgroup postings on a variety of topics. You'll train classifiers to distinguish between the topics based on the text of the posts. Whereas with digit classification, the input is relatively dense: a 28x28 matrix of pixels, many of which are non-zero, here we'll represent each document with a \"bag-of-words\" model. As you'll see, this makes the feature representation quite sparse -- only a few words of the total vocabulary are active in any given document. The bag-of-words assumption here is that the label depends only on the words; their order is not important.\n",
    "\n",
    "The SK-learn documentation on feature extraction will prove useful:\n",
    "http://scikit-learn.org/stable/modules/feature_extraction.html\n",
    "\n",
    "Each problem can be addressed succinctly with the included packages -- please don't add any more. Grading will be based on writing clean, commented code, along with a few short answers.\n",
    "\n",
    "As always, you're welcome to work on the project in groups and discuss ideas on the course wall, but please prepare your own write-up and write your own code."
   ]
  },
  {
   "cell_type": "code",
   "execution_count": 1,
   "metadata": {
    "collapsed": true
   },
   "outputs": [],
   "source": [
    "# This tells matplotlib not to try opening a new window for each plot.\n",
    "%matplotlib inline\n",
    "\n",
    "# General libraries.\n",
    "import re\n",
    "import numpy as np\n",
    "import matplotlib.pyplot as plt\n",
    "\n",
    "# SK-learn libraries for learning.\n",
    "from sklearn.pipeline import Pipeline\n",
    "from sklearn.neighbors import KNeighborsClassifier\n",
    "from sklearn.linear_model import LogisticRegression\n",
    "from sklearn.naive_bayes import BernoulliNB\n",
    "from sklearn.naive_bayes import MultinomialNB\n",
    "from sklearn.model_selection import GridSearchCV\n",
    "\n",
    "# SK-learn libraries for evaluation.\n",
    "from sklearn.metrics import confusion_matrix\n",
    "from sklearn import metrics\n",
    "from sklearn.metrics import classification_report\n",
    "\n",
    "# SK-learn library for importing the newsgroup data.\n",
    "from sklearn.datasets import fetch_20newsgroups\n",
    "\n",
    "# SK-learn libraries for feature extraction from text.\n",
    "from sklearn.feature_extraction.text import *"
   ]
  },
  {
   "cell_type": "markdown",
   "metadata": {},
   "source": [
    "Load the data, stripping out metadata so that we learn classifiers that only use textual features. By default, newsgroups data is split into train and test sets. We further split the test so we have a dev set. Note that we specify 4 categories to use for this project. If you remove the categories argument from the fetch function, you'll get all 20 categories."
   ]
  },
  {
   "cell_type": "code",
   "execution_count": 252,
   "metadata": {},
   "outputs": [
    {
     "name": "stdout",
     "output_type": "stream",
     "text": [
      "training label shape: (2034,)\n",
      "test label shape: (677,)\n",
      "dev label shape: (676,)\n",
      "labels names: ['alt.atheism', 'comp.graphics', 'sci.space', 'talk.religion.misc']\n"
     ]
    }
   ],
   "source": [
    "categories = ['alt.atheism', 'talk.religion.misc', 'comp.graphics', 'sci.space']\n",
    "newsgroups_train = fetch_20newsgroups(subset='train',\n",
    "                                      remove=('headers', 'footers', 'quotes'),\n",
    "                                      categories=categories)\n",
    "newsgroups_test = fetch_20newsgroups(subset='test',\n",
    "                                     remove=('headers', 'footers', 'quotes'),\n",
    "                                     categories=categories)\n",
    "\n",
    "num_test = len(newsgroups_test.target)\n",
    "splitAt = int(num_test/2)\n",
    "test_data, test_labels = newsgroups_test.data[splitAt:], newsgroups_test.target[splitAt:]\n",
    "dev_data, dev_labels = newsgroups_test.data[:splitAt], newsgroups_test.target[:splitAt]\n",
    "train_data, train_labels = newsgroups_train.data, newsgroups_train.target\n",
    "\n",
    "print('training label shape:', train_labels.shape)\n",
    "print('test label shape:', test_labels.shape)\n",
    "print('dev label shape:', dev_labels.shape)\n",
    "print('labels names:', newsgroups_train.target_names)"
   ]
  },
  {
   "cell_type": "markdown",
   "metadata": {},
   "source": [
    "### Question 1\n",
    "\n",
    "For each of the first 5 training examples, print the text of the message along with the label.\n",
    "\n",
    "[2 pts]"
   ]
  },
  {
   "cell_type": "code",
   "execution_count": 10,
   "metadata": {},
   "outputs": [
    {
     "name": "stdout",
     "output_type": "stream",
     "text": [
      "===========================================================================\n",
      "Message 1\n",
      "Message Label: comp.graphics\n",
      "Hi,\n",
      "\n",
      "I've noticed that if you only save a model (with all your mapping planes\n",
      "positioned carefully) to a .3DS file that when you reload it after restarting\n",
      "3DS, they are given a default position and orientation.  But if you save\n",
      "to a .PRJ file their positions/orientation are preserved.  Does anyone\n",
      "know why this information is not stored in the .3DS file?  Nothing is\n",
      "explicitly said in the manual about saving texture rules in the .PRJ file. \n",
      "I'd like to be able to read the texture rule information, does anyone have \n",
      "the format for the .PRJ file?\n",
      "\n",
      "Is the .CEL file format available from somewhere?\n",
      "\n",
      "Rych\n",
      "===========================================================================\n",
      "Message 2\n",
      "Message Label: talk.religion.misc\n",
      "\n",
      "\n",
      "Seems to be, barring evidence to the contrary, that Koresh was simply\n",
      "another deranged fanatic who thought it neccessary to take a whole bunch of\n",
      "folks with him, children and all, to satisfy his delusional mania. Jim\n",
      "Jones, circa 1993.\n",
      "\n",
      "\n",
      "Nope - fruitcakes like Koresh have been demonstrating such evil corruption\n",
      "for centuries.\n"
     ]
    }
   ],
   "source": [
    "def P1(num_examples=5):\n",
    "### STUDENT START ###\n",
    "    labels = newsgroups_train.target_names\n",
    "    for i in range(num_examples):\n",
    "        print('===========================================================================')\n",
    "        print('Message',i+1)\n",
    "        print('Message Label:',labels[train_labels[i]])\n",
    "        print(train_data[i])\n",
    "        \n",
    "\n",
    "### STUDENT END ###\n",
    "P1(2)"
   ]
  },
  {
   "cell_type": "markdown",
   "metadata": {},
   "source": [
    "### Question 2\n",
    "Use CountVectorizer to turn the raw training text into feature vectors. You should use the fit_transform function, which makes 2 passes through the data: first it computes the vocabulary (\"fit\"), second it converts the raw text into feature vectors using the vocabulary (\"transform\").\n",
    "\n",
    "The vectorizer has a lot of options. To get familiar with some of them, write code to answer these questions:\n",
    "\n",
    "The output of the transform (also of fit_transform) is a sparse matrix: http://docs.scipy.org/doc/scipy-0.14.0/reference/generated/scipy.sparse.csr_matrix.html. \n",
    "\n",
    "\n",
    "\n",
    "\n",
    "e. Use the \"min_df\" argument to prune words that appear in fewer than 10 documents. What size vocabulary does this yield?\n",
    "\n",
    "f. Using the standard CountVectorizer, what fraction of the words in the dev data are missing from the vocabulary? Hint: build a vocabulary for both train and dev and look at the size of the difference.\n",
    "\n",
    "[6 pts]"
   ]
  },
  {
   "cell_type": "markdown",
   "metadata": {},
   "source": [
    "(a)What is the size of the vocabulary?\n",
    "   What is the average number of non-zero features per example?\n",
    "   What fraction of the entries in the matrix are non-zero?"
   ]
  },
  {
   "cell_type": "code",
   "execution_count": 16,
   "metadata": {},
   "outputs": [
    {
     "name": "stdout",
     "output_type": "stream",
     "text": [
      "(a) responses:\n",
      "---------------------------------------\n",
      "non-zero features 196700\n",
      "size of the vocabulary 26879\n",
      "average number of non-zero features per example 96.7\n",
      "fraction of the entries in the matrix are non-zero is 0.0036\n"
     ]
    }
   ],
   "source": [
    "# initialize CountVectorizer\n",
    "vector = CountVectorizer()\n",
    "# transform train_data\n",
    "tf = vector.fit_transform(train_data)\n",
    "print('(a) responses:')\n",
    "print('---------------------------------------')\n",
    "print('non-zero features',tf.nnz)\n",
    "print('size of the vocabulary',tf.shape[1])\n",
    "print('average number of non-zero features per example',round(tf.nnz/tf.shape[0],1))\n",
    "print('fraction of the entries in the matrix are non-zero is',\n",
    "      round(tf.nnz/tf.shape[0]/tf.shape[1],4))"
   ]
  },
  {
   "cell_type": "markdown",
   "metadata": {},
   "source": [
    "(b) What are the 0th and last feature strings (in alphabetical order)? Hint: use the vectorizer's get_feature_names function."
   ]
  },
  {
   "cell_type": "code",
   "execution_count": 17,
   "metadata": {},
   "outputs": [
    {
     "name": "stdout",
     "output_type": "stream",
     "text": [
      "(b) responses:\n",
      "---------------------------------------\n",
      "first feature name is 00\n",
      "last feature name is zyxel\n"
     ]
    }
   ],
   "source": [
    "# get feature names\n",
    "print('(b) responses:')\n",
    "print('---------------------------------------')\n",
    "fea_names = vector.get_feature_names()\n",
    "print('first feature name is',fea_names[0])\n",
    "print('last feature name is', fea_names[-1])"
   ]
  },
  {
   "cell_type": "markdown",
   "metadata": {},
   "source": [
    "(c) Specify your own vocabulary with 4 words: [\"atheism\", \"graphics\", \"space\", \"religion\"]. Confirm the training vectors are appropriately shaped. Now what's the average number of non-zero features per example?"
   ]
  },
  {
   "cell_type": "code",
   "execution_count": 18,
   "metadata": {},
   "outputs": [
    {
     "name": "stdout",
     "output_type": "stream",
     "text": [
      "(c) responses:\n",
      "---------------------------------------\n",
      "New average number of non-zero features per example 0.3\n"
     ]
    }
   ],
   "source": [
    "vocab = ['atheism','graphics','space','religion']\n",
    "newVector = CountVectorizer(vocabulary=vocab)\n",
    "newtf = newVector.fit_transform(train_data)\n",
    "print('(c) responses:')\n",
    "print('---------------------------------------')\n",
    "print('New average number of non-zero features per example',\n",
    "     round(newtf.nnz/newtf.shape[0],1))"
   ]
  },
  {
   "cell_type": "markdown",
   "metadata": {},
   "source": [
    "(d) Instead of extracting unigram word features, use \"analyzer\" and \"ngram_range\" to extract bigram and trigram character features. What size vocabulary does this yield?"
   ]
  },
  {
   "cell_type": "code",
   "execution_count": 30,
   "metadata": {},
   "outputs": [
    {
     "name": "stdout",
     "output_type": "stream",
     "text": [
      "(d) responses:\n",
      "---------------------------------------\n",
      "sizes of the vocabulary with bigram and trigram character features \n",
      " 194891 and 315692 respectively\n"
     ]
    }
   ],
   "source": [
    "bigramVector = CountVectorizer(analyzer='word',ngram_range=(2,2))\n",
    "bigramtf = bigramVector.fit_transform(train_data)\n",
    "trigramVector = CountVectorizer(analyzer='word',ngram_range=(3,3))\n",
    "trigramtf = trigramVector.fit_transform(train_data)\n",
    "print('(d) responses:')\n",
    "print('---------------------------------------')\n",
    "print('sizes of the vocabulary with bigram and trigram character features \\n',\n",
    "      bigramtf.shape[1],'and',trigramtf.shape[1],'respectively')"
   ]
  },
  {
   "cell_type": "markdown",
   "metadata": {},
   "source": [
    "(e) Use the \"min_df\" argument to prune words that appear in fewer than 10 documents. What size vocabulary does this yield?"
   ]
  },
  {
   "cell_type": "code",
   "execution_count": 20,
   "metadata": {},
   "outputs": [
    {
     "name": "stdout",
     "output_type": "stream",
     "text": [
      "(e) responses:\n",
      "---------------------------------------\n",
      "size of the vocabulary with bigram and trigram character features 3064\n"
     ]
    }
   ],
   "source": [
    "min_dfVector = CountVectorizer(min_df=10)\n",
    "min_dftf = min_dfVector.fit_transform(train_data)\n",
    "\n",
    "print('(e) responses:')\n",
    "print('---------------------------------------')\n",
    "print('size of the vocabulary with bigram and trigram character features',\n",
    "      min_dftf.shape[1])"
   ]
  },
  {
   "cell_type": "markdown",
   "metadata": {},
   "source": [
    "(f) Using the standard CountVectorizer, what fraction of the words in the dev data are missing from the vocabulary? Hint: build a vocabulary for both train and dev and look at the size of the difference."
   ]
  },
  {
   "cell_type": "code",
   "execution_count": 35,
   "metadata": {},
   "outputs": [
    {
     "name": "stdout",
     "output_type": "stream",
     "text": [
      "(f) responses:\n",
      "---------------------------------------\n",
      "fraction of words in the dev data missing from the vocabulary 0.395587633468507\n"
     ]
    }
   ],
   "source": [
    "trainVocab= CountVectorizer().fit_transform(train_data)\n",
    "devVocab = CountVectorizer().fit_transform(dev_data)\n",
    "\n",
    "print('(f) responses:')\n",
    "print('---------------------------------------')\n",
    "print('fraction of words in the dev data missing from the vocabulary',\n",
    "     (trainVocab.shape[1]-devVocab.shape[1])/trainVocab.shape[1])"
   ]
  },
  {
   "cell_type": "markdown",
   "metadata": {},
   "source": [
    "### Question 3\n",
    "Use the default CountVectorizer options and report the f1 score (use metrics.f1_score) for a k nearest neighbors classifier; find the optimal value for k. Also fit a Multinomial Naive Bayes model and find the optimal value for alpha. Finally, fit a logistic regression model and find the optimal value for the regularization strength C using l2 regularization. \n",
    "\n",
    "[4 pts]"
   ]
  },
  {
   "cell_type": "markdown",
   "metadata": {},
   "source": [
    "**NOTE**\n",
    "Here I decided to tune the hyperparameters with only the training set\n",
    "and gridsearchCV. It seems to be\n",
    "the standard practice from what I've discovered from online materials. "
   ]
  },
  {
   "cell_type": "code",
   "execution_count": 49,
   "metadata": {},
   "outputs": [
    {
     "name": "stdout",
     "output_type": "stream",
     "text": [
      "best # of neighbors {'n_neighbors': 96}\n",
      "\n"
     ]
    }
   ],
   "source": [
    "# Get train and dev matrices\n",
    "trainVector = CountVectorizer()\n",
    "trainMatrix = trainVector.fit_transform(train_data)\n",
    "devMatrix = trainVector.transform(dev_data)\n",
    "\n",
    "#knn\n",
    "\n",
    "neighbors = {'n_neighbors':[i for i in range(1,100)]}\n",
    "grid_knn = GridSearchCV(KNeighborsClassifier(),neighbors,scoring = 'f1_weighted')\n",
    "grid_knn.fit(trainMatrix,train_labels)\n",
    "#print(grid_knn.grid_scores_)\n",
    "nBest = grid_knn.best_params_['n_neighbors']\n",
    "print('best # of neighbors',nBest)\n",
    "print('best f1 weighted score for 1-100 neighbros',grid_knn.best_score_)"
   ]
  },
  {
   "cell_type": "code",
   "execution_count": 54,
   "metadata": {},
   "outputs": [
    {
     "name": "stdout",
     "output_type": "stream",
     "text": [
      "best alpha  {'alpha': 0.01} \n",
      " and f1 score 0.828718198342\n"
     ]
    }
   ],
   "source": [
    "# multinomial Naives Bayes\n",
    "alphas = {'alpha':[0.00001,0.0001,0.001,0.01,0.1,0.25,0.5,1,2.5,5,10,25]}\n",
    "grid_mnb = GridSearchCV(MultinomialNB(),alphas,scoring='f1_weighted')\n",
    "grid_mnb.fit(trainMatrix,train_labels)\n",
    "print('best alpha ',grid_mnb.best_params_,'\\n and f1 score',grid_mnb.best_score_)"
   ]
  },
  {
   "cell_type": "code",
   "execution_count": 56,
   "metadata": {},
   "outputs": [
    {
     "name": "stdout",
     "output_type": "stream",
     "text": [
      "best C  {'C': 0.21387755102040817} \n",
      " and f1 score 0.77581120944\n"
     ]
    }
   ],
   "source": [
    "# Logistic Regression\n",
    "Cs = {'C':np.linspace(0.01,10,50)}\n",
    "grid_logit = GridSearchCV(LogisticRegression(),Cs) #default l2 regularization\n",
    "grid_logit.fit(trainMatrix,train_labels)\n",
    "print('best C ',grid_logit.best_params_,'\\n and f1 score',grid_logit.best_score_)"
   ]
  },
  {
   "cell_type": "markdown",
   "metadata": {},
   "source": [
    "ANSWER:\n",
    "\n",
    "**a. Why doesn't nearest neighbors work well for this problem?**\n",
    "The number of features, or the size of the vocabulary, is quite large for\n",
    "nearest neighbors to compute the distance between messages.\n",
    "\n",
    "**b. Any ideas why logistic regression doesn't work as well as Naive Bayes?**\n",
    "Logistic regression is a linear model which depends on several assumption to work. \n",
    "One of which is no multicolinearity, which might be a problem with this dataset.\n",
    "\n",
    "** c. Logistic regression estimates a weight vector for each class, which you can access with the coef\\_ attribute. Output the sum of the squared weight values for each class for each setting of the C parameter. Briefly explain the relationship between the sum and the value of C.\n",
    "\n",
    "see BELOW\n"
   ]
  },
  {
   "cell_type": "code",
   "execution_count": 81,
   "metadata": {},
   "outputs": [
    {
     "data": {
      "text/html": [
       "<div>\n",
       "<style>\n",
       "    .dataframe thead tr:only-child th {\n",
       "        text-align: right;\n",
       "    }\n",
       "\n",
       "    .dataframe thead th {\n",
       "        text-align: left;\n",
       "    }\n",
       "\n",
       "    .dataframe tbody tr th {\n",
       "        vertical-align: top;\n",
       "    }\n",
       "</style>\n",
       "<table border=\"1\" class=\"dataframe\">\n",
       "  <thead>\n",
       "    <tr style=\"text-align: right;\">\n",
       "      <th></th>\n",
       "      <th>alt.atheism</th>\n",
       "      <th>comp.graphics</th>\n",
       "      <th>sci.space</th>\n",
       "      <th>talk.religion.misc</th>\n",
       "      <th>C</th>\n",
       "    </tr>\n",
       "  </thead>\n",
       "  <tbody>\n",
       "    <tr>\n",
       "      <th>0</th>\n",
       "      <td>2.541396</td>\n",
       "      <td>2.939709</td>\n",
       "      <td>2.862469</td>\n",
       "      <td>2.250029</td>\n",
       "      <td>0.010</td>\n",
       "    </tr>\n",
       "    <tr>\n",
       "      <th>1</th>\n",
       "      <td>27.134654</td>\n",
       "      <td>24.658763</td>\n",
       "      <td>27.458395</td>\n",
       "      <td>23.020923</td>\n",
       "      <td>0.100</td>\n",
       "    </tr>\n",
       "    <tr>\n",
       "      <th>2</th>\n",
       "      <td>49.737854</td>\n",
       "      <td>42.743152</td>\n",
       "      <td>49.328589</td>\n",
       "      <td>42.668929</td>\n",
       "      <td>0.200</td>\n",
       "    </tr>\n",
       "    <tr>\n",
       "      <th>3</th>\n",
       "      <td>52.633976</td>\n",
       "      <td>45.000943</td>\n",
       "      <td>52.102035</td>\n",
       "      <td>45.186473</td>\n",
       "      <td>0.214</td>\n",
       "    </tr>\n",
       "    <tr>\n",
       "      <th>4</th>\n",
       "      <td>69.287066</td>\n",
       "      <td>57.875521</td>\n",
       "      <td>67.903946</td>\n",
       "      <td>59.754476</td>\n",
       "      <td>0.300</td>\n",
       "    </tr>\n",
       "    <tr>\n",
       "      <th>5</th>\n",
       "      <td>102.585981</td>\n",
       "      <td>83.120425</td>\n",
       "      <td>99.030250</td>\n",
       "      <td>88.989113</td>\n",
       "      <td>0.500</td>\n",
       "    </tr>\n",
       "    <tr>\n",
       "      <th>6</th>\n",
       "      <td>166.997666</td>\n",
       "      <td>130.924245</td>\n",
       "      <td>158.021311</td>\n",
       "      <td>145.715357</td>\n",
       "      <td>1.000</td>\n",
       "    </tr>\n",
       "    <tr>\n",
       "      <th>7</th>\n",
       "      <td>257.670955</td>\n",
       "      <td>197.979419</td>\n",
       "      <td>239.935842</td>\n",
       "      <td>226.667603</td>\n",
       "      <td>2.000</td>\n",
       "    </tr>\n",
       "  </tbody>\n",
       "</table>\n",
       "</div>"
      ],
      "text/plain": [
       "   alt.atheism  comp.graphics   sci.space  talk.religion.misc      C\n",
       "0     2.541396       2.939709    2.862469            2.250029  0.010\n",
       "1    27.134654      24.658763   27.458395           23.020923  0.100\n",
       "2    49.737854      42.743152   49.328589           42.668929  0.200\n",
       "3    52.633976      45.000943   52.102035           45.186473  0.214\n",
       "4    69.287066      57.875521   67.903946           59.754476  0.300\n",
       "5   102.585981      83.120425   99.030250           88.989113  0.500\n",
       "6   166.997666     130.924245  158.021311          145.715357  1.000\n",
       "7   257.670955     197.979419  239.935842          226.667603  2.000"
      ]
     },
     "execution_count": 81,
     "metadata": {},
     "output_type": "execute_result"
    }
   ],
   "source": [
    "#Specify some Cs\n",
    "Cs = [0.01,0.1,0.2,0.214,0.3,0.5,1,2]\n",
    "c = [[],[],[],[]]\n",
    "\n",
    "# initialize sum of squared weights for each class\n",
    "ssq = dict(zip(newsgroups_train.target_names,c))\n",
    "for c in Cs:\n",
    "    lr = LogisticRegression(C = c)\n",
    "    lr.fit(trainMatrix,train_labels)\n",
    "    for i in range(4):\n",
    "        ssq[newsgroups_train.target_names[i]].append(sum(np.square(lr.coef_[i])))\n",
    "\n",
    "#import Pandas for DataFrame\n",
    "import pandas as pd\n",
    "# Output sume of the square weight values\n",
    "weight_df = pd.DataFrame(ssq)\n",
    "weight_df['C'] = Cs\n",
    "weight_df"
   ]
  },
  {
   "cell_type": "markdown",
   "metadata": {},
   "source": [
    "As C increases, the sum squared weight also increases but at a much faster rate.\n",
    "Since C is the inverse of regularization strength, the higher C corresponds to lower penalty\n",
    "and hence larger weights."
   ]
  },
  {
   "cell_type": "markdown",
   "metadata": {},
   "source": [
    "### Quesion 4\n",
    "Train a logistic regression model. Find the 5 features with the largest weights for each label -- 20 features in total. Create a table with 20 rows and 4 columns that shows the weight for each of these features for each of the labels. Create the table again with bigram features. Any surprising features in this table?\n",
    "\n",
    "[5 pts]"
   ]
  },
  {
   "cell_type": "code",
   "execution_count": 159,
   "metadata": {},
   "outputs": [
    {
     "name": "stdout",
     "output_type": "stream",
     "text": [
      "top 5 features for alt.atheism\n",
      "['bobby', 'religion', 'atheism', 'atheists', 'islam']\n",
      "top 5 features for comp.graphics\n",
      "['graphics', 'image', 'file', '3d', 'computer']\n",
      "top 5 features for sci.space\n",
      "['space', 'orbit', 'nasa', 'launch', 'spacecraft']\n",
      "top 5 features for talk.religion.misc\n",
      "['christian', 'christians', 'blood', 'fbi', 'order']\n"
     ]
    }
   ],
   "source": [
    "# From Q3, select C to be the optimal values\n",
    "lr = LogisticRegression(C = 0.214)\n",
    "lr.fit(trainMatrix,train_labels)\n",
    "coeff = lr.coef_.copy()\n",
    "coeff_index = coeff.copy()\n",
    "for i in range(4):\n",
    "    # get sorted index\n",
    "    coeff_index[i] = np.argsort(coeff_index[i])[::-1]\n",
    "\n",
    "top20_features = []\n",
    "top20_features_index = []\n",
    "feature_names = trainVector.get_feature_names()\n",
    "for i, label in enumerate(newsgroups_train.target_names):\n",
    "    print('top 5 features for',label)\n",
    "    feature_index = [int(k) for k in coeff_index[i][:5]]\n",
    "    top_features = [feature_names[j] for j in feature_index]\n",
    "    print(top_features)\n",
    "    top20_features.append(top_features)\n",
    "    top20_features_index.append(feature_index)\n",
    "\n",
    "top20_features = sum(top20_features,[])\n",
    "top20_features_index = sum(top20_features_index,[])\n"
   ]
  },
  {
   "cell_type": "code",
   "execution_count": 160,
   "metadata": {},
   "outputs": [],
   "source": [
    "top20_df = pd.DataFrame(index = top20_features)\n",
    "for i, label in enumerate(newsgroups_train.target_names):\n",
    "    top20_df[label] = coeff[i][top20_features_index]\n",
    "top20_df\n"
   ]
  },
  {
   "cell_type": "code",
   "execution_count": 161,
   "metadata": {},
   "outputs": [
    {
     "data": {
      "text/html": [
       "<div>\n",
       "<style>\n",
       "    .dataframe thead tr:only-child th {\n",
       "        text-align: right;\n",
       "    }\n",
       "\n",
       "    .dataframe thead th {\n",
       "        text-align: left;\n",
       "    }\n",
       "\n",
       "    .dataframe tbody tr th {\n",
       "        vertical-align: top;\n",
       "    }\n",
       "</style>\n",
       "<table border=\"1\" class=\"dataframe\">\n",
       "  <thead>\n",
       "    <tr style=\"text-align: right;\">\n",
       "      <th></th>\n",
       "      <th>alt.atheism</th>\n",
       "      <th>comp.graphics</th>\n",
       "      <th>sci.space</th>\n",
       "      <th>talk.religion.misc</th>\n",
       "    </tr>\n",
       "  </thead>\n",
       "  <tbody>\n",
       "    <tr>\n",
       "      <th>bobby</th>\n",
       "      <td>0.633928</td>\n",
       "      <td>-0.153922</td>\n",
       "      <td>-0.221420</td>\n",
       "      <td>-0.299686</td>\n",
       "    </tr>\n",
       "    <tr>\n",
       "      <th>religion</th>\n",
       "      <td>0.627966</td>\n",
       "      <td>-0.389941</td>\n",
       "      <td>-0.511133</td>\n",
       "      <td>-0.022134</td>\n",
       "    </tr>\n",
       "    <tr>\n",
       "      <th>atheism</th>\n",
       "      <td>0.627935</td>\n",
       "      <td>-0.273714</td>\n",
       "      <td>-0.273447</td>\n",
       "      <td>-0.316958</td>\n",
       "    </tr>\n",
       "    <tr>\n",
       "      <th>atheists</th>\n",
       "      <td>0.621280</td>\n",
       "      <td>-0.087596</td>\n",
       "      <td>-0.207094</td>\n",
       "      <td>-0.434640</td>\n",
       "    </tr>\n",
       "    <tr>\n",
       "      <th>islam</th>\n",
       "      <td>0.538657</td>\n",
       "      <td>-0.094619</td>\n",
       "      <td>-0.218037</td>\n",
       "      <td>-0.220039</td>\n",
       "    </tr>\n",
       "    <tr>\n",
       "      <th>graphics</th>\n",
       "      <td>-0.512665</td>\n",
       "      <td>1.280929</td>\n",
       "      <td>-0.847929</td>\n",
       "      <td>-0.481674</td>\n",
       "    </tr>\n",
       "    <tr>\n",
       "      <th>image</th>\n",
       "      <td>-0.350446</td>\n",
       "      <td>0.853304</td>\n",
       "      <td>-0.500494</td>\n",
       "      <td>-0.286956</td>\n",
       "    </tr>\n",
       "    <tr>\n",
       "      <th>file</th>\n",
       "      <td>-0.217866</td>\n",
       "      <td>0.825938</td>\n",
       "      <td>-0.539695</td>\n",
       "      <td>-0.381561</td>\n",
       "    </tr>\n",
       "    <tr>\n",
       "      <th>3d</th>\n",
       "      <td>-0.237167</td>\n",
       "      <td>0.726801</td>\n",
       "      <td>-0.425194</td>\n",
       "      <td>-0.243522</td>\n",
       "    </tr>\n",
       "    <tr>\n",
       "      <th>computer</th>\n",
       "      <td>-0.000118</td>\n",
       "      <td>0.691126</td>\n",
       "      <td>-0.437128</td>\n",
       "      <td>-0.300637</td>\n",
       "    </tr>\n",
       "    <tr>\n",
       "      <th>space</th>\n",
       "      <td>-0.835988</td>\n",
       "      <td>-0.891750</td>\n",
       "      <td>1.531036</td>\n",
       "      <td>-0.756589</td>\n",
       "    </tr>\n",
       "    <tr>\n",
       "      <th>orbit</th>\n",
       "      <td>-0.277116</td>\n",
       "      <td>-0.434105</td>\n",
       "      <td>0.779490</td>\n",
       "      <td>-0.355404</td>\n",
       "    </tr>\n",
       "    <tr>\n",
       "      <th>nasa</th>\n",
       "      <td>-0.353967</td>\n",
       "      <td>-0.328706</td>\n",
       "      <td>0.677267</td>\n",
       "      <td>-0.321571</td>\n",
       "    </tr>\n",
       "    <tr>\n",
       "      <th>launch</th>\n",
       "      <td>-0.280937</td>\n",
       "      <td>-0.314709</td>\n",
       "      <td>0.613765</td>\n",
       "      <td>-0.219299</td>\n",
       "    </tr>\n",
       "    <tr>\n",
       "      <th>spacecraft</th>\n",
       "      <td>-0.228906</td>\n",
       "      <td>-0.244762</td>\n",
       "      <td>0.538796</td>\n",
       "      <td>-0.202295</td>\n",
       "    </tr>\n",
       "    <tr>\n",
       "      <th>christian</th>\n",
       "      <td>-0.353510</td>\n",
       "      <td>-0.254561</td>\n",
       "      <td>-0.223303</td>\n",
       "      <td>0.711997</td>\n",
       "    </tr>\n",
       "    <tr>\n",
       "      <th>christians</th>\n",
       "      <td>-0.454254</td>\n",
       "      <td>-0.224894</td>\n",
       "      <td>-0.285284</td>\n",
       "      <td>0.685866</td>\n",
       "    </tr>\n",
       "    <tr>\n",
       "      <th>blood</th>\n",
       "      <td>-0.305912</td>\n",
       "      <td>-0.080125</td>\n",
       "      <td>-0.149118</td>\n",
       "      <td>0.614250</td>\n",
       "    </tr>\n",
       "    <tr>\n",
       "      <th>fbi</th>\n",
       "      <td>-0.175228</td>\n",
       "      <td>-0.156464</td>\n",
       "      <td>-0.290430</td>\n",
       "      <td>0.571955</td>\n",
       "    </tr>\n",
       "    <tr>\n",
       "      <th>order</th>\n",
       "      <td>-0.485963</td>\n",
       "      <td>-0.050104</td>\n",
       "      <td>-0.099844</td>\n",
       "      <td>0.566999</td>\n",
       "    </tr>\n",
       "  </tbody>\n",
       "</table>\n",
       "</div>"
      ],
      "text/plain": [
       "            alt.atheism  comp.graphics  sci.space  talk.religion.misc\n",
       "bobby          0.633928      -0.153922  -0.221420           -0.299686\n",
       "religion       0.627966      -0.389941  -0.511133           -0.022134\n",
       "atheism        0.627935      -0.273714  -0.273447           -0.316958\n",
       "atheists       0.621280      -0.087596  -0.207094           -0.434640\n",
       "islam          0.538657      -0.094619  -0.218037           -0.220039\n",
       "graphics      -0.512665       1.280929  -0.847929           -0.481674\n",
       "image         -0.350446       0.853304  -0.500494           -0.286956\n",
       "file          -0.217866       0.825938  -0.539695           -0.381561\n",
       "3d            -0.237167       0.726801  -0.425194           -0.243522\n",
       "computer      -0.000118       0.691126  -0.437128           -0.300637\n",
       "space         -0.835988      -0.891750   1.531036           -0.756589\n",
       "orbit         -0.277116      -0.434105   0.779490           -0.355404\n",
       "nasa          -0.353967      -0.328706   0.677267           -0.321571\n",
       "launch        -0.280937      -0.314709   0.613765           -0.219299\n",
       "spacecraft    -0.228906      -0.244762   0.538796           -0.202295\n",
       "christian     -0.353510      -0.254561  -0.223303            0.711997\n",
       "christians    -0.454254      -0.224894  -0.285284            0.685866\n",
       "blood         -0.305912      -0.080125  -0.149118            0.614250\n",
       "fbi           -0.175228      -0.156464  -0.290430            0.571955\n",
       "order         -0.485963      -0.050104  -0.099844            0.566999"
      ]
     },
     "execution_count": 161,
     "metadata": {},
     "output_type": "execute_result"
    }
   ],
   "source": [
    "top20_df"
   ]
  },
  {
   "cell_type": "code",
   "execution_count": 168,
   "metadata": {},
   "outputs": [
    {
     "name": "stdout",
     "output_type": "stream",
     "text": [
      "best C  {'C': 1.0685714285714287} \n",
      " and f1 score 0.676007866273\n"
     ]
    }
   ],
   "source": [
    "# find best C for bigram\n",
    "bigramVector = CountVectorizer(analyzer='word',ngram_range=(2,2))\n",
    "biTrainMatrix = bigramVector.fit_transform(train_data)\n",
    "\n",
    "Cs = {'C':np.linspace(0.01,4,50)}\n",
    "grid_logit = GridSearchCV(LogisticRegression(),Cs) #default l2 regularization\n",
    "grid_logit.fit(biTrainMatrix,train_labels)\n",
    "print('best C ',grid_logit.best_params_,'\\n and f1 score',grid_logit.best_score_)"
   ]
  },
  {
   "cell_type": "code",
   "execution_count": 169,
   "metadata": {},
   "outputs": [
    {
     "name": "stdout",
     "output_type": "stream",
     "text": [
      "top 5 features for alt.atheism\n",
      "['claim that', 'was just', 'cheers kent', 'look up', 'you are']\n",
      "top 5 features for comp.graphics\n",
      "['looking for', 'comp graphics', 'in advance', 'is there', 'out there']\n",
      "top 5 features for sci.space\n",
      "['the space', 'the moon', 'sci space', 'sherzer methodology', 'and such']\n",
      "top 5 features for talk.religion.misc\n",
      "['ignorance is', 'such lunacy', 'compuserve com', 'is strength', 'the fbi']\n"
     ]
    }
   ],
   "source": [
    "# train bigram logistics using the best C\n",
    "\n",
    "lr = LogisticRegression(C = 1.068)\n",
    "lr.fit(biTrainMatrix,train_labels)\n",
    "coeff = lr.coef_.copy()\n",
    "coeff_index = coeff.copy()\n",
    "for i in range(4):\n",
    "    # get sorted index\n",
    "    coeff_index[i] = np.argsort(coeff_index[i])[::-1]\n",
    "\n",
    "top20_features = []\n",
    "top20_features_index = []\n",
    "feature_names = bigramVector.get_feature_names()\n",
    "for i, label in enumerate(newsgroups_train.target_names):\n",
    "    print('top 5 features for',label)\n",
    "    feature_index = [int(k) for k in coeff_index[i][:5]]\n",
    "    top_features = [feature_names[j] for j in feature_index]\n",
    "    print(top_features)\n",
    "    top20_features.append(top_features)\n",
    "    top20_features_index.append(feature_index)\n",
    "\n",
    "top20_features = sum(top20_features,[])\n",
    "top20_features_index = sum(top20_features_index,[])"
   ]
  },
  {
   "cell_type": "code",
   "execution_count": 170,
   "metadata": {},
   "outputs": [
    {
     "data": {
      "text/html": [
       "<div>\n",
       "<style>\n",
       "    .dataframe thead tr:only-child th {\n",
       "        text-align: right;\n",
       "    }\n",
       "\n",
       "    .dataframe thead th {\n",
       "        text-align: left;\n",
       "    }\n",
       "\n",
       "    .dataframe tbody tr th {\n",
       "        vertical-align: top;\n",
       "    }\n",
       "</style>\n",
       "<table border=\"1\" class=\"dataframe\">\n",
       "  <thead>\n",
       "    <tr style=\"text-align: right;\">\n",
       "      <th></th>\n",
       "      <th>alt.atheism</th>\n",
       "      <th>comp.graphics</th>\n",
       "      <th>sci.space</th>\n",
       "      <th>talk.religion.misc</th>\n",
       "    </tr>\n",
       "  </thead>\n",
       "  <tbody>\n",
       "    <tr>\n",
       "      <th>claim that</th>\n",
       "      <td>0.787495</td>\n",
       "      <td>-0.263887</td>\n",
       "      <td>-0.360149</td>\n",
       "      <td>-0.207229</td>\n",
       "    </tr>\n",
       "    <tr>\n",
       "      <th>was just</th>\n",
       "      <td>0.697029</td>\n",
       "      <td>-0.199715</td>\n",
       "      <td>-0.205674</td>\n",
       "      <td>-0.310175</td>\n",
       "    </tr>\n",
       "    <tr>\n",
       "      <th>cheers kent</th>\n",
       "      <td>0.657213</td>\n",
       "      <td>-0.901589</td>\n",
       "      <td>-0.837792</td>\n",
       "      <td>0.607024</td>\n",
       "    </tr>\n",
       "    <tr>\n",
       "      <th>look up</th>\n",
       "      <td>0.655143</td>\n",
       "      <td>-0.246863</td>\n",
       "      <td>-0.202830</td>\n",
       "      <td>-0.178268</td>\n",
       "    </tr>\n",
       "    <tr>\n",
       "      <th>you are</th>\n",
       "      <td>0.578494</td>\n",
       "      <td>-0.322426</td>\n",
       "      <td>-0.586614</td>\n",
       "      <td>-0.002087</td>\n",
       "    </tr>\n",
       "    <tr>\n",
       "      <th>looking for</th>\n",
       "      <td>-0.768235</td>\n",
       "      <td>1.340036</td>\n",
       "      <td>-0.625289</td>\n",
       "      <td>-0.712906</td>\n",
       "    </tr>\n",
       "    <tr>\n",
       "      <th>comp graphics</th>\n",
       "      <td>-0.389278</td>\n",
       "      <td>1.060423</td>\n",
       "      <td>-0.481485</td>\n",
       "      <td>-0.409001</td>\n",
       "    </tr>\n",
       "    <tr>\n",
       "      <th>in advance</th>\n",
       "      <td>-0.553536</td>\n",
       "      <td>0.985625</td>\n",
       "      <td>-0.540293</td>\n",
       "      <td>-0.516314</td>\n",
       "    </tr>\n",
       "    <tr>\n",
       "      <th>is there</th>\n",
       "      <td>-0.437407</td>\n",
       "      <td>0.927539</td>\n",
       "      <td>-0.578904</td>\n",
       "      <td>-0.350251</td>\n",
       "    </tr>\n",
       "    <tr>\n",
       "      <th>out there</th>\n",
       "      <td>-0.329225</td>\n",
       "      <td>0.909609</td>\n",
       "      <td>-0.587626</td>\n",
       "      <td>-0.338477</td>\n",
       "    </tr>\n",
       "    <tr>\n",
       "      <th>the space</th>\n",
       "      <td>-0.318648</td>\n",
       "      <td>-0.657212</td>\n",
       "      <td>1.045363</td>\n",
       "      <td>-0.329551</td>\n",
       "    </tr>\n",
       "    <tr>\n",
       "      <th>the moon</th>\n",
       "      <td>-0.410253</td>\n",
       "      <td>-0.584412</td>\n",
       "      <td>0.963346</td>\n",
       "      <td>-0.243361</td>\n",
       "    </tr>\n",
       "    <tr>\n",
       "      <th>sci space</th>\n",
       "      <td>-0.323816</td>\n",
       "      <td>-0.394377</td>\n",
       "      <td>0.750064</td>\n",
       "      <td>-0.280298</td>\n",
       "    </tr>\n",
       "    <tr>\n",
       "      <th>sherzer methodology</th>\n",
       "      <td>-0.165957</td>\n",
       "      <td>-0.238074</td>\n",
       "      <td>0.711769</td>\n",
       "      <td>-0.173122</td>\n",
       "    </tr>\n",
       "    <tr>\n",
       "      <th>and such</th>\n",
       "      <td>-0.246057</td>\n",
       "      <td>-0.405709</td>\n",
       "      <td>0.697391</td>\n",
       "      <td>-0.260799</td>\n",
       "    </tr>\n",
       "    <tr>\n",
       "      <th>ignorance is</th>\n",
       "      <td>-0.235816</td>\n",
       "      <td>-0.262501</td>\n",
       "      <td>-0.219787</td>\n",
       "      <td>0.770985</td>\n",
       "    </tr>\n",
       "    <tr>\n",
       "      <th>such lunacy</th>\n",
       "      <td>-0.157325</td>\n",
       "      <td>-0.227945</td>\n",
       "      <td>-0.201086</td>\n",
       "      <td>0.745403</td>\n",
       "    </tr>\n",
       "    <tr>\n",
       "      <th>compuserve com</th>\n",
       "      <td>-0.140720</td>\n",
       "      <td>-0.223392</td>\n",
       "      <td>-0.211329</td>\n",
       "      <td>0.740300</td>\n",
       "    </tr>\n",
       "    <tr>\n",
       "      <th>is strength</th>\n",
       "      <td>-0.183623</td>\n",
       "      <td>-0.233881</td>\n",
       "      <td>-0.203497</td>\n",
       "      <td>0.672028</td>\n",
       "    </tr>\n",
       "    <tr>\n",
       "      <th>the fbi</th>\n",
       "      <td>-0.170287</td>\n",
       "      <td>-0.266213</td>\n",
       "      <td>-0.365514</td>\n",
       "      <td>0.663387</td>\n",
       "    </tr>\n",
       "  </tbody>\n",
       "</table>\n",
       "</div>"
      ],
      "text/plain": [
       "                     alt.atheism  comp.graphics  sci.space  talk.religion.misc\n",
       "claim that              0.787495      -0.263887  -0.360149           -0.207229\n",
       "was just                0.697029      -0.199715  -0.205674           -0.310175\n",
       "cheers kent             0.657213      -0.901589  -0.837792            0.607024\n",
       "look up                 0.655143      -0.246863  -0.202830           -0.178268\n",
       "you are                 0.578494      -0.322426  -0.586614           -0.002087\n",
       "looking for            -0.768235       1.340036  -0.625289           -0.712906\n",
       "comp graphics          -0.389278       1.060423  -0.481485           -0.409001\n",
       "in advance             -0.553536       0.985625  -0.540293           -0.516314\n",
       "is there               -0.437407       0.927539  -0.578904           -0.350251\n",
       "out there              -0.329225       0.909609  -0.587626           -0.338477\n",
       "the space              -0.318648      -0.657212   1.045363           -0.329551\n",
       "the moon               -0.410253      -0.584412   0.963346           -0.243361\n",
       "sci space              -0.323816      -0.394377   0.750064           -0.280298\n",
       "sherzer methodology    -0.165957      -0.238074   0.711769           -0.173122\n",
       "and such               -0.246057      -0.405709   0.697391           -0.260799\n",
       "ignorance is           -0.235816      -0.262501  -0.219787            0.770985\n",
       "such lunacy            -0.157325      -0.227945  -0.201086            0.745403\n",
       "compuserve com         -0.140720      -0.223392  -0.211329            0.740300\n",
       "is strength            -0.183623      -0.233881  -0.203497            0.672028\n",
       "the fbi                -0.170287      -0.266213  -0.365514            0.663387"
      ]
     },
     "execution_count": 170,
     "metadata": {},
     "output_type": "execute_result"
    }
   ],
   "source": [
    "top20_bi_df = pd.DataFrame(index = top20_features)\n",
    "for i, label in enumerate(newsgroups_train.target_names):\n",
    "    top20_bi_df[label] = coeff[i][top20_features_index]\n",
    "top20_bi_df"
   ]
  },
  {
   "cell_type": "markdown",
   "metadata": {},
   "source": [
    "ANSWER:\n",
    "The optimal value for C was found for bigram data. \"the fbi\" shows up in talk.religion. Besides \"comp graphics\", other bigrams for comp.graphics aren't computer related as in the previous part. Someone named \"kent\" was probably a major contributor to alt.atheism."
   ]
  },
  {
   "cell_type": "markdown",
   "metadata": {},
   "source": [
    "### Question 5\n",
    "Try to improve the logistic regression classifier by passing a custom preprocessor to CountVectorizer. The preprocessing function runs on the raw text, before it is split into words by the tokenizer. Your preprocessor should try to normalize the input in various ways to improve generalization. For example, try lowercasing everything, replacing sequences of numbers with a single token, removing various other non-letter characters, and shortening long words. If you're not already familiar with regular expressions for manipulating strings, see https://docs.python.org/2/library/re.html, and re.sub() in particular. With your new preprocessor, how much did you reduce the size of the dictionary?\n",
    "\n",
    "For reference, I was able to improve dev F1 by 2 points.\n",
    "\n",
    "[4 pts]"
   ]
  },
  {
   "cell_type": "code",
   "execution_count": 301,
   "metadata": {},
   "outputs": [
    {
     "name": "stdout",
     "output_type": "stream",
     "text": [
      "Improvement with preprocessing dev F1 value 1.929 %\n",
      "Reduction in Vocabulary Size 33.18 %\n"
     ]
    }
   ],
   "source": [
    "def empty_preprocessor(s):\n",
    "    return s\n",
    "\n",
    "def better_preprocessor(s):\n",
    "    #lower s\n",
    "    s = s.lower()\n",
    "    \n",
    "    # remove endings like 'ed','s','ed'\n",
    "    s = re.sub(r\"ing\\b|ed\\b|s\\b\",r\"\",s)\n",
    "    \n",
    "    # remove special characters\n",
    "    s = re.sub(r\"[_%#:+]/?!#$%^&*(){}\", r\"\", s)\n",
    "    \n",
    "    # substitute underscore with space\n",
    "    s = re.sub(r\"_\",\" \",s)\n",
    "\n",
    "    newS = ''\n",
    "    for word in s:\n",
    "        #exclude words with both letters and numbers\n",
    "        if any(c.isalpha() for c in word) and any(c.isdigit() for c in word):\n",
    "            newS +=''\n",
    "        else:\n",
    "            newS += word\n",
    "    return newS\n",
    "\n",
    "def lrPreprocessor(preprocessorName):\n",
    "    trainVector = CountVectorizer(preprocessor = preprocessorName)\n",
    "    trainMatrix = trainVector.fit_transform(train_data)\n",
    "    #Use test data here\n",
    "    devMatrix = trainVector.transform(dev_data)\n",
    "    vocabSize = trainMatrix.shape[1]\n",
    "    \n",
    "    lr = LogisticRegression(C=0.214).fit(trainMatrix,train_labels)\n",
    "    prediction = lr.predict(devMatrix)\n",
    "    return metrics.f1_score(dev_labels,prediction,average='weighted'),vocabSize\n",
    "\n",
    "empty,emptysize = lrPreprocessor(empty_preprocessor)\n",
    "better, bettersize = lrPreprocessor(better_preprocessor)\n",
    "\n",
    "print('Improvement with preprocessing dev F1 value', round((better-empty)*100,3),'%')\n",
    "print('Reduction in Vocabulary Size',round((emptysize-bettersize)\\\n",
    "                                           /emptysize*100,3),'%')\n",
    "    "
   ]
  },
  {
   "cell_type": "markdown",
   "metadata": {},
   "source": [
    "### Question 6\n",
    "The idea of regularization is to avoid learning very large weights (which are likely to fit the training data, but not generalize well) by adding a penalty to the total size of the learned weights. That is, logistic regression seeks the set of weights that minimizes errors in the training data AND has a small size. The default regularization, L2, computes this size as the sum of the squared weights (see P3, above). L1 regularization computes this size as the sum of the absolute values of the weights. The result is that whereas L2 regularization makes all the weights relatively small, L1 regularization drives lots of the weights to 0, effectively removing unimportant features.\n",
    "\n",
    "Train a logistic regression model using a \"l1\" penalty. Output the number of learned weights that are not equal to zero. How does this compare to the number of non-zero weights you get with \"l2\"? Now, reduce the size of the vocabulary by keeping only those features that have at least one non-zero weight and retrain a model using \"l2\".\n",
    "\n",
    "Make a plot showing accuracy of the re-trained model vs. the vocabulary size you get when pruning unused features by adjusting the C parameter.\n",
    "\n",
    "Note: The gradient descent code that trains the logistic regression model sometimes has trouble converging with extreme settings of the C parameter. Relax the convergence criteria by setting tol=.01 (the default is .0001).\n",
    "\n",
    "[4 pts]"
   ]
  },
  {
   "cell_type": "code",
   "execution_count": 217,
   "metadata": {},
   "outputs": [
    {
     "name": "stdout",
     "output_type": "stream",
     "text": [
      "Nonzero weights for L1 and L2 1061  and  26879\n",
      "Count for L1 is much smaller than L2\n",
      "model accuracy with L2 only 0.715976331361\n",
      "Model accuracy after L1 then L2 with default C =1: 0.680473372781\n"
     ]
    }
   ],
   "source": [
    "np.random.seed(0)\n",
    "# Get train and dev matrices\n",
    "trainVector = CountVectorizer()\n",
    "trainMatrix = trainVector.fit_transform(train_data)\n",
    "devMatrix = trainVector.transform(dev_data)\n",
    "\n",
    "#train l1 losgistic \n",
    "lr_l1 = LogisticRegression(penalty='l1',tol=0.01)\n",
    "lr_l1.fit(trainMatrix,train_labels)\n",
    "lr_l2 = LogisticRegression(penalty='l2',tol=0.01)\n",
    "lr_l2.fit(trainMatrix,train_labels)\n",
    "\n",
    "# get nonzero indices, np.nonzero return a tuple\n",
    "nonzero_index1 = np.unique(np.nonzero(lr_l1.coef_)[1])\n",
    "nonzero_index2 = np.unique(np.nonzero(lr_l2.coef_)[1])\n",
    "\n",
    "# print count of non zero\n",
    "print('Nonzero weights for L1 and L2',len(nonzero_index1),' and ',len(nonzero_index2))\n",
    "print('Count for L1 is much smaller than L2')\n",
    "\n",
    "print('model accuracy with L2 only',lr_l2.score(devMatrix,dev_labels))\n",
    "\n",
    "# get new vocab, convert to nparray for easy indexing\n",
    "\n",
    "nonZeroVocab = np.array(trainVector.get_feature_names())[nonzero_index1]\n",
    "\n",
    "nonZeroVec = CountVectorizer(vocabulary=nonZeroVocab)\n",
    "newMatrix = nonZeroVec.fit_transform(train_data)\n",
    "newDevMatrix = nonZeroVec.transform(dev_data)\n",
    "lr_l1_l2 = LogisticRegression(penalty='l2',tol=0.01).fit(newMatrix,train_labels)\n",
    "print('Model accuracy after L1 then L2 with default C =1:',\n",
    "      lr_l1_l2.score(newDevMatrix,dev_labels))\n"
   ]
  },
  {
   "cell_type": "code",
   "execution_count": 302,
   "metadata": {},
   "outputs": [
    {
     "data": {
      "text/plain": [
       "<matplotlib.text.Text at 0x1160dfba8>"
      ]
     },
     "execution_count": 302,
     "metadata": {},
     "output_type": "execute_result"
    },
    {
     "data": {
      "image/png": "[encoded data removed]",
      "text/plain": [
       "<matplotlib.figure.Figure at 0x10de60208>"
      ]
     },
     "metadata": {},
     "output_type": "display_data"
    }
   ],
   "source": [
    "vocabSize = []\n",
    "score = []\n",
    "f1_score = []\n",
    "Cs = np.linspace(0.001,5,30)\n",
    "\n",
    "for c in Cs:\n",
    "    \n",
    "    #train l1 losgistic \n",
    "    lr_l1 = LogisticRegression(penalty='l1',tol=0.01, C = c)\n",
    "    lr_l1.fit(trainMatrix,train_labels)\n",
    "\n",
    "    # get nonzero indices, np.nonzero return a tuple\n",
    "    nonzero_index = np.unique(np.nonzero(lr_l1.coef_)[1])\n",
    "    vocabSize.append(len(nonzero_index))\n",
    "    # get new vocab, convert to nparray for easy indexing\n",
    "    nonZeroVocab = np.array(trainVector.get_feature_names())[nonzero_index]\n",
    "    nonZeroVec = CountVectorizer(vocabulary=nonZeroVocab)\n",
    "    newMatrix = nonZeroVec.fit_transform(train_data)\n",
    "    newDevMatrix = nonZeroVec.transform(dev_data)\n",
    "    \n",
    "    #train new model\n",
    "    lr_l1_l2 = LogisticRegression(penalty='l2',tol=0.01, C=c).fit(newMatrix,train_labels)\n",
    "    score.append(lr_l1_l2.score(newDevMatrix,dev_labels))\n",
    "    \n",
    "    prediction = lr_l1_l2.predict(newDevMatrix)\n",
    "    f1_score.append(metrics.f1_score(dev_labels,prediction,average='weighted'))\n",
    "    \n",
    "plt.plot(vocabSize,score,'+')\n",
    "plt.xlabel('Vocabulary Size')\n",
    "plt.ylabel('Accuracy Score')"
   ]
  },
  {
   "cell_type": "code",
   "execution_count": 303,
   "metadata": {},
   "outputs": [
    {
     "data": {
      "text/plain": [
       "<matplotlib.text.Text at 0x10e240160>"
      ]
     },
     "execution_count": 303,
     "metadata": {},
     "output_type": "execute_result"
    },
    {
     "data": {
      "image/png": "[encoded data removed]",
      "text/plain": [
       "<matplotlib.figure.Figure at 0x1109504a8>"
      ]
     },
     "metadata": {},
     "output_type": "display_data"
    }
   ],
   "source": [
    "plt.plot(vocabSize,f1_score,'+')\n",
    "plt.xlabel('Vocabulary Size')\n",
    "plt.ylabel('f1 Score')"
   ]
  },
  {
   "cell_type": "markdown",
   "metadata": {},
   "source": [
    "### Question 7\n",
    "\n",
    "Use the TfidfVectorizer -- how is this different from the CountVectorizer? Train a logistic regression model with C=100.\n",
    "\n",
    "Make predictions on the dev data and show the top 3 documents where the ratio R is largest, where R is:\n",
    "\n",
    "maximum predicted probability / predicted probability of the correct label\n",
    "\n",
    "What kinds of mistakes is the model making? Suggest a way to address one particular issue that you see.\n",
    "\n",
    "[4 pts]"
   ]
  },
  {
   "cell_type": "code",
   "execution_count": 198,
   "metadata": {},
   "outputs": [
    {
     "name": "stdout",
     "output_type": "stream",
     "text": [
      "++++++++++++++++++++++++++\n",
      "R ratio is 929.357878804\n",
      "Predict label: comp.graphics\n",
      "Correct label: talk.religion.misc\n",
      "Document \n",
      " I am pleased to announce that a *revised version* of _The Easy-to-Read Book\n",
      "of Mormon_ (former title: _Mormon's Book_) by Lynn Matthews Anderson is now\n",
      "available through anonymous ftp (see information below). In addition to the\n",
      "change in title, the revised ETR BOM has been shortened by several pages\n",
      "(eliminating many extraneous \"that's\" and \"of's\"), and many (minor) errors\n",
      "have been corrected. This release includes a simplified Joseph Smith Story,\n",
      "testimonies of the three and eight witnesses, and a \"Words-to-Know\"\n",
      "glossary.\n",
      "\n",
      "As with the previous announcement, readers are reminded that this is a\n",
      "not-for-profit endeavor. This is a copyrighted work, but people are welcome\n",
      "to make *verbatim* copies for personal use. People can recuperate the\n",
      "actual costs of printing (paper, copy center charges), but may not charge\n",
      "anything for their time in making copies, or in any way realize a profit\n",
      "from the use of this book. See the permissions notice in the book itself\n",
      "for the precise terms.\n",
      "\n",
      "Negotiations are currently underway with a Mormon publisher vis-a-vis the\n",
      "printing and distribution of bound books. (Sorry, I'm out of the wire-bound\n",
      "\"first editions.\") I will make another announcement about the availability\n",
      "of printed copies once everything has been worked out.\n",
      "\n",
      "FTP information: connect via anonymous ftp to carnot.itc.cmu.edu, then \"cd\n",
      "pub\" (you won't see anything at all until you do).\n",
      "\n",
      "\"The Easy-to-Read Book of Mormon\" is currently available in postscript and\n",
      "RTF (rich text format). (ASCII, LaTeX, and other versions can be made\n",
      "available; contact dba@andrew.cmu.edu for details.) You should be able to\n",
      "print the postscript file on any postscript printer (such as an Apple\n",
      "Laserwriter); let dba know if you have any difficulties. (The postscript in\n",
      "the last release had problems on some printers; this time it should work\n",
      "better.) RTF is a standard document interchange format that can be read in\n",
      "by a number of word processors, including Microsoft Word for both the\n",
      "Macintosh and Windows. If you don't have a postscript printer, you may be\n",
      "able to use the RTF file to print out a copy of the book.\n",
      "\n",
      "-r--r--r--  1 dba                   1984742 Apr 27 13:12 etrbom.ps\n",
      "-r--r--r--  1 dba                   1209071 Apr 27 13:13 etrbom.rtf\n",
      "\n",
      "For more information about how this project came about, please refer to my\n",
      "article in the current issue of _Sunstone_, entitled \"Delighting in\n",
      "Plainness: Issues Surrounding a Simple Modern English Book of Mormon.\"\n",
      "\n",
      "Send all inquiries and comments to:\n",
      "\n",
      "    Lynn Matthews Anderson\n",
      "    5806 Hampton Street\n",
      "    Pittsburgh, PA 15206\n",
      "++++++++++++++++++++++++++\n",
      "R ratio is 325.004108236\n",
      "Predict label: comp.graphics\n",
      "Correct label: talk.religion.misc\n",
      "Document \n",
      " Can anyone provide me a ftp site where I can obtain a online version\n",
      "of the Book of Mormon. Please email the internet address if possible.\n",
      "++++++++++++++++++++++++++\n",
      "R ratio is 287.306359265\n",
      "Predict label: talk.religion.misc\n",
      "Correct label: alt.atheism\n",
      "Document \n",
      " \n",
      "The 24 children were, of course, killed by a lone gunman in a second story\n",
      "window, who fired eight bullets in the space of two seconds...\n",
      "\n"
     ]
    }
   ],
   "source": [
    "tVector = TfidfVectorizer()\n",
    "tMatrix = tVector.fit_transform(train_data)\n",
    "tDevMatrix = tVector.transform(dev_data)\n",
    "\n",
    "names = newsgroups_train.target_names\n",
    "# Get Predict probabilities\n",
    "lr = LogisticRegression(C=100).fit(tMatrix,train_labels)\n",
    "tPredProb  = lr.predict_proba(tDevMatrix)\n",
    "tPred = lr.predict(tDevMatrix)\n",
    "\n",
    "R_ratio = []\n",
    "for index, probs in enumerate(tPredProb):\n",
    "    max_prob = max(probs)\n",
    "    correct_prob = probs[dev_labels[index]]\n",
    "    R_ratio.append(max_prob/correct_prob)\n",
    "\n",
    "R_ratio = np.array(R_ratio)\n",
    "sortedR_index = np.argsort(R_ratio)[::-1]\n",
    "\n",
    "for index in sortedR_index[:3]:\n",
    "    print(\"++++++++++++++++++++++++++\")\n",
    "    print('R ratio is', R_ratio[index])\n",
    "    print('Predict label:',names[tPred[index]])\n",
    "    print('Correct label:',names[dev_labels[index]])\n",
    "    print('Document \\n',dev_data[index])\n"
   ]
  },
  {
   "cell_type": "markdown",
   "metadata": {},
   "source": [
    "ANSWER:\n",
    "\n",
    "**Use the TfidfVectorizer -- how is this different from the CountVectorizer?**\n",
    "tfidfVectorizer is equivalent to CountVectorizer followed by TfidfTransformer which times\n",
    " raw frequencies with the inverse document-frequency, reducing the impact of a term\n",
    " that occur frequently in a given corpus. (from sklearn documentation)\n",
    " \n",
    "**What kinds of mistakes is the model making? \n",
    "Suggest a way to address one particular issue that you see.**\n",
    "\n",
    "The model misclassified relatively longer or shorter documents and probably catches only\n",
    "the keywords instead of the main point. Maybe normalize the term frequency with the document's length and gives more weight to certain word than others. For example, in the doc with the 2nd highest R-ratio, the topic is religion because of \"book of mormon\" but the text contai\n",
    "contains many computer related keywords.\n",
    "\n",
    "\n"
   ]
  },
  {
   "cell_type": "markdown",
   "metadata": {},
   "source": [
    "(8) EXTRA CREDIT\n",
    "\n",
    "Try implementing one of your ideas based on your error analysis. Use logistic regression as your underlying model.\n",
    "\n",
    "- [1 pt] for a reasonable attempt\n",
    "- [2 pts] for improved performance"
   ]
  }
 ],
 "metadata": {
  "kernelspec": {
   "display_name": "Python 3",
   "language": "python",
   "name": "python3"
  },
  "language_info": {
   "codemirror_mode": {
    "name": "ipython",
    "version": 3
   },
   "file_extension": ".py",
   "mimetype": "text/x-python",
   "name": "python",
   "nbconvert_exporter": "python",
   "pygments_lexer": "ipython3",
   "version": "3.6.1"
  }
 },
 "nbformat": 4,
 "nbformat_minor": 1
}
