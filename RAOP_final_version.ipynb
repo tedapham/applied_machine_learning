{
 "cells": [
  {
   "cell_type": "markdown",
   "metadata": {},
   "source": [
    "# W207 Summer 2017 Final Project iPython notebook\n",
    "### Omar Al Taher, Ted Pham, Chris SanChez"
   ]
  },
  {
   "cell_type": "code",
   "execution_count": 1,
   "metadata": {
    "collapsed": true
   },
   "outputs": [],
   "source": [
    "# This tells matplotlib not to try opening a new window for each plot.\n",
    "%matplotlib inline\n",
    "import warnings\n",
    "warnings.filterwarnings('ignore')\n",
    "\n",
    "# General libraries.\n",
    "import json\n",
    "import re\n",
    "import pandas as pd\n",
    "import numpy as np\n",
    "import matplotlib.pyplot as plt\n",
    "import datetime\n",
    "\n",
    "# SK-learn libraries for learning.\n",
    "from sklearn.pipeline import Pipeline\n",
    "from sklearn.neighbors import KNeighborsClassifier\n",
    "from sklearn.linear_model import LogisticRegression\n",
    "from sklearn.naive_bayes import BernoulliNB\n",
    "from sklearn.naive_bayes import GaussianNB\n",
    "from sklearn.model_selection import GridSearchCV #update module model_selection\n",
    "from sklearn.svm import SVC\n",
    "from sklearn.svm import LinearSVC\n",
    "from sklearn.ensemble import RandomForestClassifier\n",
    "\n",
    "# SK-learn libraries for evaluation.\n",
    "from sklearn.metrics import confusion_matrix\n",
    "from sklearn import metrics\n",
    "from sklearn.decomposition import PCA\n",
    "from sklearn.metrics import classification_report\n",
    "from sklearn.metrics import roc_auc_score\n",
    "from sklearn.model_selection import cross_val_predict, cross_val_score\n",
    "\n",
    "from sklearn import preprocessing\n",
    "from sklearn.mixture import GMM\n",
    "\n",
    "# SK-learn libraries for feature extraction from text.\n",
    "from sklearn.feature_extraction.text import *"
   ]
  },
  {
   "cell_type": "markdown",
   "metadata": {},
   "source": [
    "# I. Background:"
   ]
  },
  {
   "cell_type": "markdown",
   "metadata": {},
   "source": [
    "#### This project aims to predict whether a reddit post asking for pizzas would get funded. Since it's a binary classification problem, we will explore several algorithms with a focus on logistic regression. In particular, we will look into details how to extract features from text."
   ]
  },
  {
   "cell_type": "markdown",
   "metadata": {},
   "source": [
    "# II. Data Pre-Processing:"
   ]
  },
  {
   "cell_type": "markdown",
   "metadata": {},
   "source": [
    "#### The data in its raw form consists of 4040 observations of 31 features.  The original columns consist of 19 integer values, 4 floats, and 8 objects (there is one boolean column which is the outcome variable).  In order to extract predictive value from the dataset a good deal of pre-processing and feature engineering was required.  A walkthrough of the various steps taken follows below in a narrative format:"
   ]
  },
  {
   "cell_type": "code",
   "execution_count": 2,
   "metadata": {},
   "outputs": [
    {
     "name": "stdout",
     "output_type": "stream",
     "text": [
      "<class 'pandas.core.frame.DataFrame'>\n",
      "Int64Index: 4040 entries, 0 to 4039\n",
      "Data columns (total 32 columns):\n",
      "giver_username_if_known                                 4040 non-null object\n",
      "number_of_downvotes_of_request_at_retrieval             4040 non-null int64\n",
      "number_of_upvotes_of_request_at_retrieval               4040 non-null int64\n",
      "post_was_edited                                         4040 non-null int64\n",
      "request_id                                              4040 non-null object\n",
      "request_number_of_comments_at_retrieval                 4040 non-null int64\n",
      "request_text                                            4040 non-null object\n",
      "request_text_edit_aware                                 4040 non-null object\n",
      "request_title                                           4040 non-null object\n",
      "requester_account_age_in_days_at_request                4040 non-null float64\n",
      "requester_account_age_in_days_at_retrieval              4040 non-null float64\n",
      "requester_days_since_first_post_on_raop_at_request      4040 non-null float64\n",
      "requester_days_since_first_post_on_raop_at_retrieval    4040 non-null float64\n",
      "requester_number_of_comments_at_request                 4040 non-null int64\n",
      "requester_number_of_comments_at_retrieval               4040 non-null int64\n",
      "requester_number_of_comments_in_raop_at_request         4040 non-null int64\n",
      "requester_number_of_comments_in_raop_at_retrieval       4040 non-null int64\n",
      "requester_number_of_posts_at_request                    4040 non-null int64\n",
      "requester_number_of_posts_at_retrieval                  4040 non-null int64\n",
      "requester_number_of_posts_on_raop_at_request            4040 non-null int64\n",
      "requester_number_of_posts_on_raop_at_retrieval          4040 non-null int64\n",
      "requester_number_of_subreddits_at_request               4040 non-null int64\n",
      "requester_received_pizza                                4040 non-null bool\n",
      "requester_subreddits_at_request                         4040 non-null object\n",
      "requester_upvotes_minus_downvotes_at_request            4040 non-null int64\n",
      "requester_upvotes_minus_downvotes_at_retrieval          4040 non-null int64\n",
      "requester_upvotes_plus_downvotes_at_request             4040 non-null int64\n",
      "requester_upvotes_plus_downvotes_at_retrieval           4040 non-null int64\n",
      "requester_user_flair                                    994 non-null object\n",
      "requester_username                                      4040 non-null object\n",
      "unix_timestamp_of_request                               4040 non-null int64\n",
      "unix_timestamp_of_request_utc                           4040 non-null int64\n",
      "dtypes: bool(1), float64(4), int64(19), object(8)\n",
      "memory usage: 1013.9+ KB\n"
     ]
    }
   ],
   "source": [
    "#load json training data into pandas dataframe\n",
    "df = pd.read_json('train.json')\n",
    "df.info()"
   ]
  },
  {
   "cell_type": "markdown",
   "metadata": {},
   "source": [
    "#### We'll start by transforming the outcome variable into a binary variable. "
   ]
  },
  {
   "cell_type": "code",
   "execution_count": 3,
   "metadata": {},
   "outputs": [
    {
     "data": {
      "text/plain": [
       "0    3046\n",
       "1     994\n",
       "Name: requester_received_pizza, dtype: int64"
      ]
     },
     "execution_count": 3,
     "metadata": {},
     "output_type": "execute_result"
    }
   ],
   "source": [
    "df['requester_received_pizza'] = np.where(df['requester_received_pizza'] == True, 1, 0)\n",
    "df['requester_received_pizza'].value_counts()\n"
   ]
  },
  {
   "cell_type": "markdown",
   "metadata": {},
   "source": [
    "#### Next, we'll remove all the \"_at_retrieval\" columns from the dataset as they are not found in the test data set and therefore represent data that is not avaialable at the time of the request for pizza.  "
   ]
  },
  {
   "cell_type": "code",
   "execution_count": 4,
   "metadata": {
    "collapsed": true
   },
   "outputs": [],
   "source": [
    "good_indexes = []\n",
    "for i, name in enumerate(df.columns):\n",
    "    if re.findall('retrieval', name):\n",
    "        pass\n",
    "    else:\n",
    "        good_indexes.append(i)\n",
    "\n",
    "# Remove at_retrieval fields from dataframce df\n",
    "columns = df.columns[good_indexes]\n",
    "df =  df.loc[:,columns]"
   ]
  },
  {
   "cell_type": "markdown",
   "metadata": {},
   "source": [
    "#### We also found that there were several other columns that were not needed for predictive power, and we therefore removed them as well."
   ]
  },
  {
   "cell_type": "code",
   "execution_count": 5,
   "metadata": {},
   "outputs": [
    {
     "name": "stdout",
     "output_type": "stream",
     "text": [
      "<class 'pandas.core.frame.DataFrame'>\n",
      "Int64Index: 4040 entries, 0 to 4039\n",
      "Data columns (total 16 columns):\n",
      "request_text                                          4040 non-null object\n",
      "request_text_edit_aware                               4040 non-null object\n",
      "request_title                                         4040 non-null object\n",
      "requester_account_age_in_days_at_request              4040 non-null float64\n",
      "requester_days_since_first_post_on_raop_at_request    4040 non-null float64\n",
      "requester_number_of_comments_at_request               4040 non-null int64\n",
      "requester_number_of_comments_in_raop_at_request       4040 non-null int64\n",
      "requester_number_of_posts_at_request                  4040 non-null int64\n",
      "requester_number_of_posts_on_raop_at_request          4040 non-null int64\n",
      "requester_number_of_subreddits_at_request             4040 non-null int64\n",
      "requester_received_pizza                              4040 non-null int64\n",
      "requester_subreddits_at_request                       4040 non-null object\n",
      "requester_upvotes_minus_downvotes_at_request          4040 non-null int64\n",
      "requester_upvotes_plus_downvotes_at_request           4040 non-null int64\n",
      "unix_timestamp_of_request                             4040 non-null int64\n",
      "unix_timestamp_of_request_utc                         4040 non-null int64\n",
      "dtypes: float64(2), int64(10), object(4)\n",
      "memory usage: 536.6+ KB\n"
     ]
    }
   ],
   "source": [
    "#Drop six more columns from dataset\n",
    "df.drop(['giver_username_if_known', 'post_was_edited', 'request_id', \n",
    "        'requester_user_flair', 'requester_username'], axis=1, inplace=True)\n",
    "df.info()"
   ]
  },
  {
   "cell_type": "markdown",
   "metadata": {},
   "source": [
    "#### Removing the \"at_retrieval\" columns and the other six columns, reduces our dataset by 17 total features (leaving us with 14 features, not including the outcome variable ).  "
   ]
  },
  {
   "cell_type": "markdown",
   "metadata": {},
   "source": [
    "#### During the EDA phase of this project we found that several (104 to be exact), observations had a \"request_text\" length of zero, some of these observations actually ended up being given a pizza.  After looking through the data, we discovered that some people had left their request in the \"request_title\" field of the RAOP Reddit page and had left their request_text field blank.  In order to clean this discrepancy up, we decided to combine these two fields together, as it is unclear if the benefactors (those who ended up giving pizzas away),  were responding to the '\"request_title\" field, the \"request_text\" field, or both when they made their altruistic decision.  "
   ]
  },
  {
   "cell_type": "code",
   "execution_count": 6,
   "metadata": {},
   "outputs": [
    {
     "data": {
      "text/plain": [
       "104"
      ]
     },
     "execution_count": 6,
     "metadata": {},
     "output_type": "execute_result"
    }
   ],
   "source": [
    "#Show that 104 observations have a blank \"request_text\" field\n",
    "len(df[df['request_text'].str.len() == 0])"
   ]
  },
  {
   "cell_type": "code",
   "execution_count": 7,
   "metadata": {},
   "outputs": [
    {
     "name": "stdout",
     "output_type": "stream",
     "text": [
      "0    colorado springs help us please hi i am in nee...\n",
      "1    california, no cash and i could use some dinne...\n",
      "2    hungry couple in dundee, scotland would love s...\n",
      "3    in canada (ontario), just got home from school...\n",
      "4    old friend coming to visit. would love to feed...\n",
      "Name: request_text_n_title, dtype: object\n",
      "\n",
      "After combining request_title and request_text, number of requests with length of \"zero\": 0\n"
     ]
    }
   ],
   "source": [
    "#1. Combine request_text and request_title fields\n",
    "#2. Lowercase all words \n",
    "\n",
    "df['request_text_n_title'] = (df['request_title'] + ' ' + df['request_text_edit_aware'])\n",
    "df['request_text_n_title'] = [ text.split(\" \",1)[1].lower() for text in df['request_text_n_title']]\n",
    "print df['request_text_n_title'].head()\n",
    " \n",
    "#3. Add a total length feature to the dataset \n",
    "df['total_length'] =df['request_text_n_title'].apply(lambda x: len(x.split(' ')))\n",
    "\n",
    "#4. Ensure there are no zero length requests in the new feature/column\n",
    "print '\\nAfter combining request_title and request_text, number of requests with length of \\\n",
    "\"zero\": {}'.format(len(df[df['request_text_n_title'] == 0]))\n",
    "\n"
   ]
  },
  {
   "cell_type": "code",
   "execution_count": 8,
   "metadata": {},
   "outputs": [
    {
     "data": {
      "text/html": [
       "<div>\n",
       "<style>\n",
       "    .dataframe thead tr:only-child th {\n",
       "        text-align: right;\n",
       "    }\n",
       "\n",
       "    .dataframe thead th {\n",
       "        text-align: left;\n",
       "    }\n",
       "\n",
       "    .dataframe tbody tr th {\n",
       "        vertical-align: top;\n",
       "    }\n",
       "</style>\n",
       "<table border=\"1\" class=\"dataframe\">\n",
       "  <thead>\n",
       "    <tr style=\"text-align: right;\">\n",
       "      <th></th>\n",
       "      <th>request_text_n_title</th>\n",
       "      <th>total_length</th>\n",
       "    </tr>\n",
       "  </thead>\n",
       "  <tbody>\n",
       "    <tr>\n",
       "      <th>0</th>\n",
       "      <td>colorado springs help us please hi i am in nee...</td>\n",
       "      <td>72</td>\n",
       "    </tr>\n",
       "    <tr>\n",
       "      <th>1</th>\n",
       "      <td>california, no cash and i could use some dinne...</td>\n",
       "      <td>25</td>\n",
       "    </tr>\n",
       "    <tr>\n",
       "      <th>2</th>\n",
       "      <td>hungry couple in dundee, scotland would love s...</td>\n",
       "      <td>68</td>\n",
       "    </tr>\n",
       "    <tr>\n",
       "      <th>3</th>\n",
       "      <td>in canada (ontario), just got home from school...</td>\n",
       "      <td>39</td>\n",
       "    </tr>\n",
       "    <tr>\n",
       "      <th>4</th>\n",
       "      <td>old friend coming to visit. would love to feed...</td>\n",
       "      <td>115</td>\n",
       "    </tr>\n",
       "    <tr>\n",
       "      <th>5</th>\n",
       "      <td>i'll give a two week xbox live code for a slic...</td>\n",
       "      <td>47</td>\n",
       "    </tr>\n",
       "  </tbody>\n",
       "</table>\n",
       "</div>"
      ],
      "text/plain": [
       "                                request_text_n_title  total_length\n",
       "0  colorado springs help us please hi i am in nee...            72\n",
       "1  california, no cash and i could use some dinne...            25\n",
       "2  hungry couple in dundee, scotland would love s...            68\n",
       "3  in canada (ontario), just got home from school...            39\n",
       "4  old friend coming to visit. would love to feed...           115\n",
       "5  i'll give a two week xbox live code for a slic...            47"
      ]
     },
     "execution_count": 8,
     "metadata": {},
     "output_type": "execute_result"
    }
   ],
   "source": [
    "#Showcase of new added features to dataset\n",
    "df.loc[:5,['request_text_n_title', 'total_length']]"
   ]
  },
  {
   "cell_type": "markdown",
   "metadata": {},
   "source": [
    "# III. Baseline Modeling:"
   ]
  },
  {
   "cell_type": "markdown",
   "metadata": {},
   "source": [
    "#### With pre-processing out of the way, we decided to run a baseline text analysis model using the \"request_text_n_title\" feature alone.  This model serves as our basis against which we can compare the success or failure of all futue feature engineering efforts."
   ]
  },
  {
   "cell_type": "markdown",
   "metadata": {},
   "source": [
    "### IIIa. Train and Dev set creation\n",
    "#### We begin by forming our training and dev sets.  Given that the success rate for receiving a pizza in the original dataset is ~25%, we'll check our randomized training and dev sets to ensure a similar success rate is preserved.  "
   ]
  },
  {
   "cell_type": "code",
   "execution_count": 9,
   "metadata": {},
   "outputs": [
    {
     "name": "stdout",
     "output_type": "stream",
     "text": [
      "Original success rate: 0.246\n",
      "Training success rate: 0.2462\n",
      "Dev success rate: 0.2452\n",
      "\n",
      "\n",
      "Training Data shape: \t(3200,)\n",
      "Training Labels shape: \t(3200,)\n",
      "Dev data shape: \t(840,)\n",
      "Dev Labels shape: \t(840,)\n"
     ]
    }
   ],
   "source": [
    "np.random.seed(0)\n",
    "\n",
    "#separate into features and labels\n",
    "text_features = df['request_text_n_title'].values # text features\n",
    "success_rate = sum(df['requester_received_pizza'])/4040.\n",
    "print \"Original success rate: {}\".format(round(success_rate, 4))\n",
    "\n",
    "# Create target field for received pizza are only 1's and 0's\n",
    "target = df['requester_received_pizza'].values\n",
    "\n",
    "#shuffle our data to ensure randomization\n",
    "shuffle = np.random.permutation(len(text_features))\n",
    "text_features, target = text_features[shuffle], target[shuffle]\n",
    "\n",
    "#separate into training and dev groups\n",
    "train_data, train_labels = text_features[:3200], target[:3200]\n",
    "dev_data, dev_labels = text_features[3200:], target[3200:]\n",
    "\n",
    "#check to ensure success rate is roughly preserved across sets \n",
    "train_success_rate = sum(train_labels)/3200.\n",
    "dev_success_rate = sum(dev_labels)/840.\n",
    "print \"Training success rate: {}\".format(round(train_success_rate, 4))\n",
    "print \"Dev success rate: {}\".format(round(dev_success_rate, 4))\n",
    "\n",
    "#check to ensure we've got the right datasets\n",
    "print '\\n\\nTraining Data shape: \\t{}'.format(train_data.shape)\n",
    "print 'Training Labels shape: \\t{}'.format(train_labels.shape)\n",
    "print 'Dev data shape: \\t{}'.format(dev_data.shape)\n",
    "print 'Dev Labels shape: \\t{}'.format(dev_labels.shape)"
   ]
  },
  {
   "cell_type": "markdown",
   "metadata": {},
   "source": [
    "### IIIb. Logistic Regression\n",
    "#### Our initial model will make use of the sklearn TfidfVectorizer function to encapsulate predictive power from the training data.  After some initial trial runs, we realized that we needed to limit the number of features to make a useful model.  In this case, a predictive \"sweet spot\" emerged in the 350+ - 400 range, so we limited our feature number to this amount. "
   ]
  },
  {
   "cell_type": "code",
   "execution_count": 10,
   "metadata": {},
   "outputs": [
    {
     "name": "stdout",
     "output_type": "stream",
     "text": [
      "BASELINE LOGISTIC REGRESSION\n",
      "----------------------------\n",
      "Baseline ROC AUC score: 0.5841\n",
      "\n",
      "\n",
      "RESTRICTED FEATURES LOGISTIC REGRESSION\n",
      "---------------------------------------\n",
      "Max number of features: 396\n",
      "Best ROC AUC Score: 0.6056\n",
      "\n",
      "\n",
      "LOGISTIC REGRESSION with tuning c value and restricted # of features\n",
      "--------------------------------------------------------------------\n",
      "Best C-value: 2.30086403033\n",
      "Best ROC AUC Score: 0.6088\n",
      "\n",
      "\n"
     ]
    }
   ],
   "source": [
    "#fit logistic classifier to training data\n",
    "print \"BASELINE LOGISTIC REGRESSION\"\n",
    "print \"----------------------------\"\n",
    "vec = TfidfVectorizer()\n",
    "train_matrix = vec.fit_transform(train_data)\n",
    "dev_matrix = vec.transform(dev_data)\n",
    "lr= LogisticRegression(n_jobs=-1, class_weight='balanced').fit(train_matrix, train_labels)\n",
    "predictions = lr.predict(dev_matrix)\n",
    "score = round(roc_auc_score(dev_labels, predictions, average='weighted'), 4)\n",
    "print \"Baseline ROC AUC score: {}\".format(score)\n",
    "\n",
    "print \"\\n\\nRESTRICTED FEATURES LOGISTIC REGRESSION\"\n",
    "print \"---------------------------------------\"\n",
    "\n",
    "model_scores = []\n",
    "range_features = np.arange(385,400)\n",
    "\n",
    "for features in range_features:    \n",
    "    vec = TfidfVectorizer(stop_words='english',sublinear_tf=1, ngram_range=(1,1),max_features=features)\n",
    "    train_matrix = vec.fit_transform(train_data)\n",
    "    dev_matrix = vec.transform(dev_data)\n",
    "    lr= LogisticRegression(n_jobs=-1, class_weight='balanced').fit(train_matrix, train_labels)\n",
    "    predictions = lr.predict(dev_matrix)\n",
    "    model_scores.append(round(metrics.roc_auc_score(dev_labels, predictions, average = 'weighted'), 4))\n",
    "    best_score = round(max(model_scores), 4)\n",
    "print \"Max number of features: {}\".format(range_features[np.argmax(model_scores)])\n",
    "print \"Best ROC AUC Score: {}\".format(best_score)\n",
    "\n",
    "#best_max_feature\n",
    "best_max_feature = range_features[np.argmax(model_scores)]\n",
    "\n",
    "#fit logistic classifier to training data\n",
    "vec = TfidfVectorizer(stop_words='english',sublinear_tf=1, ngram_range=(1,1), max_features=best_max_feature)\n",
    "train_matrix = vec.fit_transform(train_data)\n",
    "dev_matrix = vec.transform(dev_data)\n",
    "\n",
    "print \"\\n\"\n",
    "print \"LOGISTIC REGRESSION with tuning c value and restricted # of features\"\n",
    "print \"--------------------------------------------------------------------\"\n",
    "c_values = np.logspace(.0001, 2, 200)\n",
    "c_scores = []\n",
    "for value in c_values:\n",
    "    lr = LogisticRegression(C=value, n_jobs=-1, class_weight='balanced', penalty='l2')\n",
    "    lr.fit(train_matrix, train_labels)\n",
    "    predictions = lr.predict(dev_matrix)\n",
    "    c_scores.append(round(metrics.roc_auc_score(dev_labels, predictions, average = 'weighted'), 4))\n",
    "    \n",
    "best_c_value = c_values[np.argmax(c_scores)]\n",
    "print \"Best C-value: {}\".format(best_c_value)\n",
    "print \"Best ROC AUC Score: {}\".format(c_scores[np.argmax(c_scores)])\n",
    "lr = LogisticRegression(C=best_c_value, n_jobs=-1).fit(train_matrix, train_labels)\n",
    "predictions = lr.predict(dev_matrix)\n",
    "print '\\n'"
   ]
  },
  {
   "cell_type": "markdown",
   "metadata": {},
   "source": [
    "#### Our initial baseline model with Logistic Regression does suprisingly well using only the raw text without any feature engineering or hyperparameter tuning. The initial score represents a rough 9% improvement over random guessing alone.  After restricting the number of features in the model we see a 2% improvement in predictive accuracy, suggesting that the great majority of unique words in the feature space do not contribute to predictive accuracy.   We further tested baseline models using Multinomial Naive Bayes and SVM.  "
   ]
  },
  {
   "cell_type": "markdown",
   "metadata": {},
   "source": [
    "### IIIc. Bernoulli Naive Bayes"
   ]
  },
  {
   "cell_type": "code",
   "execution_count": 11,
   "metadata": {},
   "outputs": [
    {
     "name": "stdout",
     "output_type": "stream",
     "text": [
      "BERNOULLI NAIVE BAYES\n",
      "-----------------------\n",
      "Best ROC AUC Score: 0.5948\n",
      "Max Features: 419\n"
     ]
    }
   ],
   "source": [
    "#fit Multinomial Naive Bayes classifier to training data\n",
    "print \"BERNOULLI NAIVE BAYES\"\n",
    "print \"-----------------------\"\n",
    "model_scores = []\n",
    "range_features = np.arange(415, 431)\n",
    "for features in range_features:\n",
    "    vec = TfidfVectorizer(max_features=features)\n",
    "    train_matrix = vec.fit_transform(train_data)\n",
    "    dev_matrix = vec.transform(dev_data)\n",
    "    alphas = np.linspace(.0001, 1, 20)\n",
    "    bnb = BernoulliNB(alpha=.001).fit(train_matrix, train_labels)\n",
    "    predictions = bnb.predict(dev_matrix)\n",
    "    model_scores.append(round(roc_auc_score(dev_labels, predictions, average='weighted'), 4))\n",
    "print \"Best ROC AUC Score: {}\".format(max(model_scores))\n",
    "print \"Max Features: {}\".format(range_features[np.argmax(model_scores)])"
   ]
  },
  {
   "cell_type": "markdown",
   "metadata": {},
   "source": [
    "#### Using Bernoulli NB we get similar results to LR, again making use of restricting the number of features in our training matrix.  "
   ]
  },
  {
   "cell_type": "markdown",
   "metadata": {},
   "source": [
    "### IIId. Support Vector Machine"
   ]
  },
  {
   "cell_type": "code",
   "execution_count": 12,
   "metadata": {},
   "outputs": [
    {
     "name": "stdout",
     "output_type": "stream",
     "text": [
      "\n",
      "Support Vector Machine\n",
      "------------------------\n",
      "0.5196\n"
     ]
    }
   ],
   "source": [
    "print \"\\nSupport Vector Machine\"\n",
    "print \"------------------------\"\n",
    "vec = TfidfVectorizer(max_features=best_max_feature, stop_words='english')\n",
    "train_matrix = vec.fit_transform(train_data)\n",
    "dev_matrix = vec.transform(dev_data)\n",
    "svc = LinearSVC().fit(train_matrix, train_labels)\n",
    "predictions = svc.predict(dev_matrix)\n",
    "print round(roc_auc_score(dev_labels, predictions, average='weighted'),4)"
   ]
  },
  {
   "cell_type": "markdown",
   "metadata": {},
   "source": [
    "#### SVM performs no better than previous models.  "
   ]
  },
  {
   "cell_type": "markdown",
   "metadata": {},
   "source": [
    "# IV. Feature Engineering"
   ]
  },
  {
   "cell_type": "markdown",
   "metadata": {},
   "source": [
    "#### Setting aside text processing for the time being, we decided to focus on specific features within the dataset that could possibly lead to increased predictive power.  For example, we noted that users who included pictues in their request (presumably as a means of validating their story), were disporportionately more likely to receive a pizza.  Similarly, users who wrote longer requests, or who had spent more time in the RAOP community were also more likely to recieve a pizza.  Therefore, what follows is an explanation of our attempts at engineering features to build the best predictive model possible.  With a few exceptions all features were binarized."
   ]
  },
  {
   "cell_type": "markdown",
   "metadata": {},
   "source": [
    "### a. Including an image\n",
    "#### The inclusion of an image in the request indicates that the requester is providing some evidence of their need for a pizza. A photo might be a screenshot of a bank account balance, a large bill, an injury, or other misfortune. Adding such evidence increases the odds of receiving a pizza."
   ]
  },
  {
   "cell_type": "code",
   "execution_count": 13,
   "metadata": {
    "collapsed": true
   },
   "outputs": [],
   "source": [
    "#Create feature where in image is included in the request\n",
    "df['image_incl'] = np.where(df['request_text_n_title'].str.contains(\"imgur\"), int(1), int(0))"
   ]
  },
  {
   "cell_type": "markdown",
   "metadata": {},
   "source": [
    "### b. Community standing/status"
   ]
  },
  {
   "cell_type": "code",
   "execution_count": 14,
   "metadata": {},
   "outputs": [
    {
     "data": {
      "text/html": [
       "<div>\n",
       "<style>\n",
       "    .dataframe thead tr:only-child th {\n",
       "        text-align: right;\n",
       "    }\n",
       "\n",
       "    .dataframe thead th {\n",
       "        text-align: left;\n",
       "    }\n",
       "\n",
       "    .dataframe tbody tr th {\n",
       "        vertical-align: top;\n",
       "    }\n",
       "</style>\n",
       "<table border=\"1\" class=\"dataframe\">\n",
       "  <thead>\n",
       "    <tr style=\"text-align: right;\">\n",
       "      <th></th>\n",
       "      <th>winners</th>\n",
       "      <th>losers</th>\n",
       "    </tr>\n",
       "  </thead>\n",
       "  <tbody>\n",
       "    <tr>\n",
       "      <th>count</th>\n",
       "      <td>994.000000</td>\n",
       "      <td>3046.000000</td>\n",
       "    </tr>\n",
       "    <tr>\n",
       "      <th>mean</th>\n",
       "      <td>1848.437240</td>\n",
       "      <td>1501.113257</td>\n",
       "    </tr>\n",
       "    <tr>\n",
       "      <th>std</th>\n",
       "      <td>5598.137867</td>\n",
       "      <td>3231.267421</td>\n",
       "    </tr>\n",
       "    <tr>\n",
       "      <th>min</th>\n",
       "      <td>0.000000</td>\n",
       "      <td>-10.895197</td>\n",
       "    </tr>\n",
       "    <tr>\n",
       "      <th>25%</th>\n",
       "      <td>132.845203</td>\n",
       "      <td>5.020179</td>\n",
       "    </tr>\n",
       "    <tr>\n",
       "      <th>50%</th>\n",
       "      <td>666.343900</td>\n",
       "      <td>480.832176</td>\n",
       "    </tr>\n",
       "    <tr>\n",
       "      <th>75%</th>\n",
       "      <td>2127.290081</td>\n",
       "      <td>1762.444358</td>\n",
       "    </tr>\n",
       "    <tr>\n",
       "      <th>max</th>\n",
       "      <td>156272.652604</td>\n",
       "      <td>89490.103021</td>\n",
       "    </tr>\n",
       "  </tbody>\n",
       "</table>\n",
       "</div>"
      ],
      "text/plain": [
       "             winners        losers\n",
       "count     994.000000   3046.000000\n",
       "mean     1848.437240   1501.113257\n",
       "std      5598.137867   3231.267421\n",
       "min         0.000000    -10.895197\n",
       "25%       132.845203      5.020179\n",
       "50%       666.343900    480.832176\n",
       "75%      2127.290081   1762.444358\n",
       "max    156272.652604  89490.103021"
      ]
     },
     "execution_count": 14,
     "metadata": {},
     "output_type": "execute_result"
    }
   ],
   "source": [
    "#Create feature that is an aggregate of all indicators of community status including seniority\n",
    "\n",
    "df['karma'] = df['requester_account_age_in_days_at_request'] + df['requester_days_since_first_post_on_raop_at_request']\\\n",
    "+ df['requester_number_of_comments_at_request'] + df['requester_number_of_comments_in_raop_at_request'] + \\\n",
    "df['requester_number_of_posts_at_request'] + df['requester_number_of_posts_on_raop_at_request'] + \\\n",
    "df['requester_number_of_subreddits_at_request'] + df['requester_upvotes_minus_downvotes_at_request']\n",
    "\n",
    "karma_winners = df['karma'][df['requester_received_pizza'] == 1].describe()\n",
    "karma_losers = df['karma'][df['requester_received_pizza'] == 0].describe()\n",
    "karma_comparison = pd.concat([karma_winners, karma_losers], axis=1)\n",
    "karma_comparison.columns = ['winners', 'losers']\n",
    "karma_comparison"
   ]
  },
  {
   "cell_type": "markdown",
   "metadata": {},
   "source": [
    "#### A quick analysis of the newly created \"karma\" features highlights the fact that people who received pizza have a median karma value of over 660, compared to those who did not with a median value of only 480. This large difference will likely have strong predictve power for our model.  As indicated in the code snippet below, roughly one-third of all observations who did not receive a pizza have a karma value below 100."
   ]
  },
  {
   "cell_type": "code",
   "execution_count": 15,
   "metadata": {},
   "outputs": [
    {
     "name": "stdout",
     "output_type": "stream",
     "text": [
      "820 0.26920551543\n",
      "163 0.163983903421\n",
      "237 0.0778069599475\n",
      "81 0.0814889336016\n"
     ]
    }
   ],
   "source": [
    "low_losers= len(df[df['requester_received_pizza'] == 0][df['karma'] < 15])\n",
    "low_winners=len(df[df['requester_received_pizza'] == 1][df['karma'] < 15])\n",
    "print low_losers, low_losers/3046.\n",
    "print low_winners, low_winners/994.\n",
    "\n",
    "high_losers = len(df[df['requester_received_pizza'] == 0][df['karma'] > 5000])\n",
    "high_winners = len(df[df['requester_received_pizza'] == 1][df['karma'] > 5000])\n",
    "print high_losers, high_losers/3046.\n",
    "print high_winners, high_winners/994.\n",
    "\n",
    "df['karma_low'] = np.where(df['karma'] < 15, 1, 0)"
   ]
  },
  {
   "cell_type": "markdown",
   "metadata": {},
   "source": [
    "### c. Request length"
   ]
  },
  {
   "cell_type": "code",
   "execution_count": 16,
   "metadata": {},
   "outputs": [
    {
     "data": {
      "text/html": [
       "<div>\n",
       "<style>\n",
       "    .dataframe thead tr:only-child th {\n",
       "        text-align: right;\n",
       "    }\n",
       "\n",
       "    .dataframe thead th {\n",
       "        text-align: left;\n",
       "    }\n",
       "\n",
       "    .dataframe tbody tr th {\n",
       "        vertical-align: top;\n",
       "    }\n",
       "</style>\n",
       "<table border=\"1\" class=\"dataframe\">\n",
       "  <thead>\n",
       "    <tr style=\"text-align: right;\">\n",
       "      <th></th>\n",
       "      <th>winners</th>\n",
       "      <th>losers</th>\n",
       "    </tr>\n",
       "  </thead>\n",
       "  <tbody>\n",
       "    <tr>\n",
       "      <th>count</th>\n",
       "      <td>994.000000</td>\n",
       "      <td>3046.000000</td>\n",
       "    </tr>\n",
       "    <tr>\n",
       "      <th>mean</th>\n",
       "      <td>101.668008</td>\n",
       "      <td>83.379186</td>\n",
       "    </tr>\n",
       "    <tr>\n",
       "      <th>std</th>\n",
       "      <td>75.466061</td>\n",
       "      <td>66.959005</td>\n",
       "    </tr>\n",
       "    <tr>\n",
       "      <th>min</th>\n",
       "      <td>8.000000</td>\n",
       "      <td>4.000000</td>\n",
       "    </tr>\n",
       "    <tr>\n",
       "      <th>25%</th>\n",
       "      <td>54.000000</td>\n",
       "      <td>43.000000</td>\n",
       "    </tr>\n",
       "    <tr>\n",
       "      <th>50%</th>\n",
       "      <td>82.000000</td>\n",
       "      <td>66.000000</td>\n",
       "    </tr>\n",
       "    <tr>\n",
       "      <th>75%</th>\n",
       "      <td>125.000000</td>\n",
       "      <td>102.000000</td>\n",
       "    </tr>\n",
       "    <tr>\n",
       "      <th>max</th>\n",
       "      <td>828.000000</td>\n",
       "      <td>862.000000</td>\n",
       "    </tr>\n",
       "  </tbody>\n",
       "</table>\n",
       "</div>"
      ],
      "text/plain": [
       "          winners       losers\n",
       "count  994.000000  3046.000000\n",
       "mean   101.668008    83.379186\n",
       "std     75.466061    66.959005\n",
       "min      8.000000     4.000000\n",
       "25%     54.000000    43.000000\n",
       "50%     82.000000    66.000000\n",
       "75%    125.000000   102.000000\n",
       "max    828.000000   862.000000"
      ]
     },
     "execution_count": 16,
     "metadata": {},
     "output_type": "execute_result"
    }
   ],
   "source": [
    "length_winners = df['total_length'][df['requester_received_pizza'] == 1].describe()\n",
    "length_losers = df['total_length'][df['requester_received_pizza'] == 0].describe()\n",
    "length_comparison = pd.concat([length_winners, length_losers], axis=1)\n",
    "length_comparison.columns = ['winners', 'losers']\n",
    "length_comparison"
   ]
  },
  {
   "cell_type": "markdown",
   "metadata": {},
   "source": [
    "#### The analsyis here indicates that while not as dramatic a difference as the previous feature, there is a moderate difference in text length between winners and losers.  Apparently, a longer text (request) indicates more of an effort to explain the users particular situation, and is therefore more likely to be seen as sincere or plausible by the RAOP community. "
   ]
  },
  {
   "cell_type": "markdown",
   "metadata": {},
   "source": [
    "### d. Extracting time-based features:\n",
    "#### The UTC time stamp is parsed and converted to human readable format. Also, the first half of the month is identified with a binary variable since people might be more money to use for donating a pizza earlier in the month. "
   ]
  },
  {
   "cell_type": "code",
   "execution_count": 17,
   "metadata": {
    "collapsed": true
   },
   "outputs": [],
   "source": [
    "\n",
    "df['time']=df['unix_timestamp_of_request'].apply(lambda x:int(datetime.datetime.fromtimestamp(int(x)).strftime('%H')))\n",
    "df['first_half'] = np.where(df['day'] < 16, 1, 0)"
   ]
  },
  {
   "cell_type": "markdown",
   "metadata": {},
   "source": [
    "### e. Extracting gratitude and \"pay it forward\" sentiment"
   ]
  },
  {
   "cell_type": "code",
   "execution_count": 18,
   "metadata": {
    "collapsed": true
   },
   "outputs": [],
   "source": [
    "#Create binary variables that show whether requester is grateful or willing to \"pay it forward\"\n",
    "df['requester_grateful'] = np.where(df['request_text_n_title'].str.contains('thanks' or 'advance' or 'guy'\\\n",
    "                    or 'reading' or 'anyone' or 'anything' or'story'or 'tonight'or 'favor'or'craving'), int(1), int(0))\n",
    "\n",
    "df['requester_payback'] = np.where(df['request_text_n_title'].str.contains('return' or 'pay it back'\\\n",
    "                                                                     or 'pay it forward' or 'favor'), int(1), int(0))"
   ]
  },
  {
   "cell_type": "markdown",
   "metadata": {},
   "source": [
    "### f. Extracting request narratives\n",
    "#### We extract the narrative out of each request. Based on our EDA, we picked 5 narratives: Money, Job, Student, Family and Craving. 5 new columns will be added for the narratives which are coded in binary 0 or 1.  The terms that specify each narrative are given in the narratives' dictionary.  We counted the total occurent of the words in each post, normalize this count by the word count in the post, and use median-threshold to determine whether the post fall into the respective narrative.\n",
    "\n",
    "this was inspired and adapted from Althoff, DN-Mizil, Jurafsky, \"How to ask for a favor\n",
    "a case study on the success of altruitic request,\" arXiv 2014"
   ]
  },
  {
   "cell_type": "code",
   "execution_count": 19,
   "metadata": {
    "collapsed": true
   },
   "outputs": [],
   "source": [
    "# Define narrative categories\n",
    "narratives = {\n",
    "            'money':['money','now','broke','week','until','time',\n",
    "                      'last','day','when','today','tonight','paid',\n",
    "                      'next','first','night','night','after','tomorrow',\n",
    "                      'while','account','before','long','friday','rent',\n",
    "                      'buy','bank','still','bills','ago','cash','due',\n",
    "                      'soon','past','never','paycheck','check','spent',\n",
    "                      'year','years','poor','till','yesterday','morning',\n",
    "                      'dollars','financial','hour','bill','evening','credit',\n",
    "                      'budget','loan','bucks','deposit','dollar','current','payed'],\n",
    "             'job':['work','job','paycheck','unemployment','interviewed',\n",
    "                   'fired','employment','hired','hire'],\n",
    "             'student':['college','student','school','roommate','studying',\n",
    "                       'study','university','finals','semester','class','project',\n",
    "                       'dorm','tuition'],\n",
    "             'family': ['family','mom','wife','parents','mother','husband','dad','son',\n",
    "                     'daughter','father','parent','mum','children','starving','hungry'],\n",
    "             'craving': ['friend','girlfriend','birthday','boyfriend','celebrate',\n",
    "                      'party','game','games','movie','movies','date','drunk',\n",
    "                      'beer','celebrating','invited','drinks','crave','wasted','invited']\n",
    "            }\n",
    "\n",
    "# function to extract word count for each narrative from one text post, normalize by the word count of that post\n",
    "def single_extract(text):  \n",
    "    count = {'money':0.,\n",
    "            'job':0.,\n",
    "            'student':0.,\n",
    "            'family':0.,\n",
    "            'craving':0.}\n",
    "    words = text.split(' ')\n",
    "    length = 1./len(words)\n",
    "    for word in text.split(' '):\n",
    "        for i,k in narratives.items():\n",
    "            if word in k:\n",
    "                count[i] += length\n",
    "    return count.values()\n",
    "\n",
    "# Extract request_text_n_title field\n",
    "texts = df['request_text_n_title'].copy()\n",
    "\n",
    "#initialize count \n",
    "count =[]\n",
    "# return normalized count for each narrative from all requests\n",
    "for text in texts:\n",
    "    count.append(single_extract(text))\n",
    "\n",
    "# narrative dataframe\n",
    "narrative = pd.DataFrame(count)\n",
    "# set up median for using with the test set\n",
    "median_values = []\n",
    "\n",
    "#extract narrative field\n",
    "for i,k in enumerate(narratives.keys()):\n",
    "    median_values.append(np.median(narrative[i]))\n",
    "    narrative['narrative_'+k] = (narrative[i] > np.median(narrative[i])).astype(int)\n",
    "    narrative.drop([i],axis=1,inplace=True)\n",
    "\n",
    "# concatenate \n",
    "df = pd.concat([df,narrative],axis=1)"
   ]
  },
  {
   "cell_type": "markdown",
   "metadata": {},
   "source": [
    "#### In the end, we added a total of 16 additional features, 3 continuous and 13 binary.  "
   ]
  },
  {
   "cell_type": "code",
   "execution_count": 20,
   "metadata": {},
   "outputs": [
    {
     "name": "stdout",
     "output_type": "stream",
     "text": [
      "<class 'pandas.core.frame.DataFrame'>\n",
      "Int64Index: 4040 entries, 0 to 4039\n",
      "Data columns (total 33 columns):\n",
      "request_text                                          4040 non-null object\n",
      "request_text_edit_aware                               4040 non-null object\n",
      "request_title                                         4040 non-null object\n",
      "requester_account_age_in_days_at_request              4040 non-null float64\n",
      "requester_days_since_first_post_on_raop_at_request    4040 non-null float64\n",
      "requester_number_of_comments_at_request               4040 non-null int64\n",
      "requester_number_of_comments_in_raop_at_request       4040 non-null int64\n",
      "requester_number_of_posts_at_request                  4040 non-null int64\n",
      "requester_number_of_posts_on_raop_at_request          4040 non-null int64\n",
      "requester_number_of_subreddits_at_request             4040 non-null int64\n",
      "requester_received_pizza                              4040 non-null int64\n",
      "requester_subreddits_at_request                       4040 non-null object\n",
      "requester_upvotes_minus_downvotes_at_request          4040 non-null int64\n",
      "requester_upvotes_plus_downvotes_at_request           4040 non-null int64\n",
      "unix_timestamp_of_request                             4040 non-null int64\n",
      "unix_timestamp_of_request_utc                         4040 non-null int64\n",
      "request_text_n_title                                  4040 non-null object\n",
      "total_length                                          4040 non-null int64\n",
      "image_incl                                            4040 non-null int64\n",
      "karma                                                 4040 non-null float64\n",
      "karma_low                                             4040 non-null int64\n",
      "timestamp                                             4040 non-null object\n",
      "month                                                 4040 non-null int64\n",
      "day                                                   4040 non-null int64\n",
      "time                                                  4040 non-null int64\n",
      "first_half                                            4040 non-null int64\n",
      "requester_grateful                                    4040 non-null int64\n",
      "requester_payback                                     4040 non-null int64\n",
      "narrative_money                                       4040 non-null int64\n",
      "narrative_job                                         4040 non-null int64\n",
      "narrative_family                                      4040 non-null int64\n",
      "narrative_student                                     4040 non-null int64\n",
      "narrative_craving                                     4040 non-null int64\n",
      "dtypes: float64(3), int64(24), object(6)\n",
      "memory usage: 1.2+ MB\n"
     ]
    }
   ],
   "source": [
    "df.info()"
   ]
  },
  {
   "cell_type": "markdown",
   "metadata": {},
   "source": [
    "#### To fit our model, we combined all engineered features into a single dataframe.  And after several iterations, decided to truncate some of the added features to improve predictive accuracy ('time' and 'karma' specifically)."
   ]
  },
  {
   "cell_type": "code",
   "execution_count": 21,
   "metadata": {},
   "outputs": [
    {
     "data": {
      "text/html": [
       "<div>\n",
       "<style>\n",
       "    .dataframe thead tr:only-child th {\n",
       "        text-align: right;\n",
       "    }\n",
       "\n",
       "    .dataframe thead th {\n",
       "        text-align: left;\n",
       "    }\n",
       "\n",
       "    .dataframe tbody tr th {\n",
       "        vertical-align: top;\n",
       "    }\n",
       "</style>\n",
       "<table border=\"1\" class=\"dataframe\">\n",
       "  <thead>\n",
       "    <tr style=\"text-align: right;\">\n",
       "      <th></th>\n",
       "      <th>image_incl</th>\n",
       "      <th>karma_low</th>\n",
       "      <th>time</th>\n",
       "      <th>first_half</th>\n",
       "      <th>requester_grateful</th>\n",
       "      <th>requester_payback</th>\n",
       "      <th>narrative_money</th>\n",
       "      <th>narrative_job</th>\n",
       "      <th>narrative_family</th>\n",
       "      <th>narrative_student</th>\n",
       "      <th>narrative_craving</th>\n",
       "      <th>total_length</th>\n",
       "    </tr>\n",
       "  </thead>\n",
       "  <tbody>\n",
       "    <tr>\n",
       "      <th>0</th>\n",
       "      <td>0</td>\n",
       "      <td>1</td>\n",
       "      <td>15</td>\n",
       "      <td>1</td>\n",
       "      <td>0</td>\n",
       "      <td>0</td>\n",
       "      <td>0</td>\n",
       "      <td>0</td>\n",
       "      <td>1</td>\n",
       "      <td>0</td>\n",
       "      <td>0</td>\n",
       "      <td>0.010106</td>\n",
       "    </tr>\n",
       "    <tr>\n",
       "      <th>1</th>\n",
       "      <td>0</td>\n",
       "      <td>0</td>\n",
       "      <td>22</td>\n",
       "      <td>0</td>\n",
       "      <td>0</td>\n",
       "      <td>0</td>\n",
       "      <td>1</td>\n",
       "      <td>0</td>\n",
       "      <td>0</td>\n",
       "      <td>0</td>\n",
       "      <td>0</td>\n",
       "      <td>0.003509</td>\n",
       "    </tr>\n",
       "    <tr>\n",
       "      <th>2</th>\n",
       "      <td>0</td>\n",
       "      <td>1</td>\n",
       "      <td>10</td>\n",
       "      <td>0</td>\n",
       "      <td>0</td>\n",
       "      <td>0</td>\n",
       "      <td>1</td>\n",
       "      <td>0</td>\n",
       "      <td>1</td>\n",
       "      <td>0</td>\n",
       "      <td>1</td>\n",
       "      <td>0.009545</td>\n",
       "    </tr>\n",
       "    <tr>\n",
       "      <th>3</th>\n",
       "      <td>0</td>\n",
       "      <td>0</td>\n",
       "      <td>11</td>\n",
       "      <td>1</td>\n",
       "      <td>0</td>\n",
       "      <td>0</td>\n",
       "      <td>0</td>\n",
       "      <td>0</td>\n",
       "      <td>1</td>\n",
       "      <td>0</td>\n",
       "      <td>0</td>\n",
       "      <td>0.005474</td>\n",
       "    </tr>\n",
       "    <tr>\n",
       "      <th>4</th>\n",
       "      <td>0</td>\n",
       "      <td>0</td>\n",
       "      <td>12</td>\n",
       "      <td>1</td>\n",
       "      <td>0</td>\n",
       "      <td>0</td>\n",
       "      <td>0</td>\n",
       "      <td>0</td>\n",
       "      <td>0</td>\n",
       "      <td>0</td>\n",
       "      <td>1</td>\n",
       "      <td>0.016142</td>\n",
       "    </tr>\n",
       "  </tbody>\n",
       "</table>\n",
       "</div>"
      ],
      "text/plain": [
       "   image_incl  karma_low  time  first_half  requester_grateful  \\\n",
       "0           0          1    15           1                   0   \n",
       "1           0          0    22           0                   0   \n",
       "2           0          1    10           0                   0   \n",
       "3           0          0    11           1                   0   \n",
       "4           0          0    12           1                   0   \n",
       "\n",
       "   requester_payback  narrative_money  narrative_job  narrative_family  \\\n",
       "0                  0                0              0                 1   \n",
       "1                  0                1              0                 0   \n",
       "2                  0                1              0                 1   \n",
       "3                  0                0              0                 1   \n",
       "4                  0                0              0                 0   \n",
       "\n",
       "   narrative_student  narrative_craving  total_length  \n",
       "0                  0                  0      0.010106  \n",
       "1                  0                  0      0.003509  \n",
       "2                  0                  1      0.009545  \n",
       "3                  0                  0      0.005474  \n",
       "4                  0                  1      0.016142  "
      ]
     },
     "execution_count": 21,
     "metadata": {},
     "output_type": "execute_result"
    }
   ],
   "source": [
    "continuous_list = ['total_length']#, 'time', 'karma']\n",
    "binary_list = [\n",
    "                                               u'image_incl',\n",
    "                                                u'karma_low',\n",
    "                                            #        u'month',\n",
    "                                             #         u'day',\n",
    "                                                     u'time',\n",
    "                                               u'first_half',\n",
    "                                       u'requester_grateful',\n",
    "                                        u'requester_payback',\n",
    "                                          u'narrative_money',\n",
    "                                            u'narrative_job',\n",
    "                                         u'narrative_family',\n",
    "                                        u'narrative_student',\n",
    "                                        u'narrative_craving'\n",
    "             ]\n",
    "\n",
    "#create new DataFrame using previously defined \"numeric_features\" object to determine all columns in the DF\n",
    "\n",
    "numeric_features = df.copy().loc[:,continuous_list]\n",
    "numeric_features_norm = pd.DataFrame(data=preprocessing.normalize(numeric_features, axis=0),\\\n",
    "                                     columns=numeric_features.columns.values)  \n",
    "\n",
    "# combine to contious and binary\n",
    "numeric_features_norm = pd.concat([df[binary_list],numeric_features_norm],axis=1)\n",
    "numeric_features_norm.head()"
   ]
  },
  {
   "cell_type": "code",
   "execution_count": 22,
   "metadata": {},
   "outputs": [
    {
     "name": "stdout",
     "output_type": "stream",
     "text": [
      "<class 'pandas.core.frame.DataFrame'>\n",
      "Int64Index: 4040 entries, 0 to 4039\n",
      "Data columns (total 12 columns):\n",
      "image_incl            4040 non-null int64\n",
      "karma_low             4040 non-null int64\n",
      "time                  4040 non-null int64\n",
      "first_half            4040 non-null int64\n",
      "requester_grateful    4040 non-null int64\n",
      "requester_payback     4040 non-null int64\n",
      "narrative_money       4040 non-null int64\n",
      "narrative_job         4040 non-null int64\n",
      "narrative_family      4040 non-null int64\n",
      "narrative_student     4040 non-null int64\n",
      "narrative_craving     4040 non-null int64\n",
      "total_length          4040 non-null float64\n",
      "dtypes: float64(1), int64(11)\n",
      "memory usage: 410.3 KB\n"
     ]
    }
   ],
   "source": [
    "features = numeric_features_norm.copy()\n",
    "target = df['requester_received_pizza']\n",
    "features.info()"
   ]
  },
  {
   "cell_type": "markdown",
   "metadata": {},
   "source": [
    "# V. Final Modeling\n",
    "#### We decided to create three final models.  \n",
    "* One model using just our engineered features (without unigram text)\n",
    "* One combined model using engineered features and unigram text\n",
    "* One model using predicted probabilities as model features "
   ]
  },
  {
   "cell_type": "code",
   "execution_count": 23,
   "metadata": {},
   "outputs": [
    {
     "data": {
      "text/plain": [
       "((3200, 12), (840, 12), (3200,), (840,))"
      ]
     },
     "execution_count": 23,
     "metadata": {},
     "output_type": "execute_result"
    }
   ],
   "source": [
    "X, y = features.values, target.copy()\n",
    "#shuffle = np.random.permutation(len(X))\n",
    "X, y = X[shuffle], y[shuffle]\n",
    "Xtrain, Xdev, ytrain, ydev = X[:3200], X[3200:], y[:3200], y[3200:]\n",
    "Xtrain.shape, Xdev.shape, ytrain.shape, ydev.shape"
   ]
  },
  {
   "cell_type": "markdown",
   "metadata": {},
   "source": [
    "### a. Model One: Engineered Features only"
   ]
  },
  {
   "cell_type": "code",
   "execution_count": 24,
   "metadata": {},
   "outputs": [
    {
     "name": "stdout",
     "output_type": "stream",
     "text": [
      "Best C-value: 68.4213684211\n",
      "Best AUC score based on metrics.roc_auc_score = 0.5876\n"
     ]
    }
   ],
   "source": [
    "scores = []\n",
    "c_values = np.linspace(.001, 100, 20)\n",
    "for c in c_values:\n",
    "    lr_8 = LogisticRegression(C=c, class_weight='balanced', n_jobs=-1).fit(Xtrain, ytrain)\n",
    "    predictions = lr_8.predict(Xdev)\n",
    "    scores.append(round(roc_auc_score(ydev, predictions, average='weighted'), 4))\n",
    "print \"Best C-value: {}\".format(c_values[np.argmax(scores)])\n",
    "print 'Best AUC score based on metrics.roc_auc_score = {}'.format(max(scores))\n"
   ]
  },
  {
   "cell_type": "markdown",
   "metadata": {},
   "source": [
    "### b. Model Two: Engineered Features combined with Unigram text"
   ]
  },
  {
   "cell_type": "code",
   "execution_count": 25,
   "metadata": {},
   "outputs": [
    {
     "name": "stdout",
     "output_type": "stream",
     "text": [
      "(4040, 408)\n",
      "Best C-value: 1.783789974\n",
      "Best ROC AUC Score: 0.6121\n"
     ]
    }
   ],
   "source": [
    "#Initialize our vectorizer using hyperparameters from previous models\n",
    "vec = TfidfVectorizer(stop_words='english',sublinear_tf=1, max_features=best_max_feature)\n",
    "train_matrix = vec.fit_transform(train_data)\n",
    "\n",
    "#Transform our text features\n",
    "text_features = df['request_text_n_title'].values.copy()\n",
    "text_transformed = vec.transform(text_features)\n",
    "\n",
    "# Concatenate egineered numeric_features with vectorized text features \n",
    "combined_features = np.append(features.values, text_transformed.toarray(), axis = 1)\n",
    "print combined_features.shape\n",
    "\n",
    "#prep data for modeling\n",
    "X, y = combined_features, target.copy()\n",
    "X, y = X[shuffle], y[shuffle]\n",
    "Xtrain, Xdev, ytrain, ydev = X[:3200], X[3200:], y[:3200], y[3200:]\n",
    "Xtrain.shape, Xdev.shape, ytrain.shape, ydev.shape\n",
    "\n",
    "#Fit logistic model to data\n",
    "c_values = np.logspace(.0001, 2, 200)\n",
    "c_scores = []\n",
    "for value in c_values:\n",
    "    lr = LogisticRegression(C=value, n_jobs=-1, class_weight='balanced', penalty='l2')\n",
    "    lr.fit(Xtrain, ytrain)\n",
    "    predictions = lr.predict(Xdev)\n",
    "    c_scores.append(round(metrics.roc_auc_score(ydev, predictions, average = 'weighted'), 4))\n",
    "    \n",
    "best_C_value = c_values[np.argmax(c_scores)]\n",
    "print \"Best C-value: {}\".format(best_C_value)\n",
    "print \"Best ROC AUC Score: {}\".format(c_scores[np.argmax(c_scores)])"
   ]
  },
  {
   "cell_type": "markdown",
   "metadata": {},
   "source": [
    "### Model Three: Unigrams predict_probability combined with engineered features"
   ]
  },
  {
   "cell_type": "code",
   "execution_count": 26,
   "metadata": {},
   "outputs": [
    {
     "name": "stdout",
     "output_type": "stream",
     "text": [
      "Best C-value: 100.0\n",
      "Best ROC AUC Score: 0.5906\n"
     ]
    }
   ],
   "source": [
    "#fit logistic classifier to training data\n",
    "vec = TfidfVectorizer(stop_words='english',sublinear_tf=1, max_features=best_max_feature)\n",
    "train_matrix = vec.fit_transform(train_data)\n",
    "\n",
    "\n",
    "lr1 = LogisticRegression(C=best_c_value, n_jobs=-1).fit(train_matrix, train_labels)\n",
    "\n",
    "text_features = df['request_text_n_title'].values.copy()\n",
    "\n",
    "text_transformed = vec.transform(text_features)\n",
    "# create pizza_predict field for all records based on features array\n",
    "pizza_predict = lr1.predict_proba(text_transformed)[:,1][:, np.newaxis] \n",
    "\n",
    "# Concatenate numeric_features with pizza_predict to create pizza_predict + numeric features in ens_features\n",
    "combined_features = np.append(features.values, pizza_predict, axis = 1)\n",
    "\n",
    "X, y = combined_features, target.copy()\n",
    "#shuffle = np.random.permutation(len(X))\n",
    "X, y = X[shuffle], y[shuffle]\n",
    "Xtrain, Xdev, ytrain, ydev = X[:3200], X[3200:], y[:3200], y[3200:]\n",
    "Xtrain.shape, Xdev.shape, ytrain.shape, ydev.shape\n",
    "\n",
    "#####\n",
    "c_values = np.logspace(.0001, 2, 200)\n",
    "c_scores = []\n",
    "for value in c_values:\n",
    "    lr = LogisticRegression(C=value, n_jobs=-1, class_weight='balanced', penalty='l2')\n",
    "    lr.fit(Xtrain, ytrain)\n",
    "    predictions = lr.predict(Xdev)\n",
    "    c_scores.append(round(metrics.roc_auc_score(ydev, predictions, average = 'weighted'), 4))\n",
    "    \n",
    "best_C_value = c_values[np.argmax(c_scores)]\n",
    "print \"Best C-value: {}\".format(best_C_value)\n",
    "print \"Best ROC AUC Score: {}\".format(c_scores[np.argmax(c_scores)])"
   ]
  },
  {
   "cell_type": "markdown",
   "metadata": {},
   "source": [
    "# VI. Results and Analysis\n",
    "#### Our best model ended up being model Two which was a combination of engineered features and unigram text.  This result is not surprising, especially considering the amount of work required to engineer the given features.  We submitted different variants of model two to the Kaggle website with varying degrees of success. "
   ]
  },
  {
   "cell_type": "markdown",
   "metadata": {
    "collapsed": true
   },
   "source": [
    "\n",
    "### FOR SUBMISSION WITH FINAL MODELS"
   ]
  },
  {
   "cell_type": "code",
   "execution_count": 27,
   "metadata": {},
   "outputs": [
    {
     "name": "stdout",
     "output_type": "stream",
     "text": [
      "Kaggle submission 1, result AUC  = 0.59386\n"
     ]
    }
   ],
   "source": [
    "\"\"\"Our first attempt is a brute force method with logistics regression that \n",
    "use the best parameters from developing the model\"\"\"\n",
    "\n",
    "\n",
    "df_test = pd.read_json('test.json')\n",
    "\n",
    "df_test['request_text_n_title'] = (df_test['request_title'] + ' ' + df_test['request_text_edit_aware'])\n",
    "df_test['request_text_n_title'] = [ text.split(\" \",1)[1].lower() for text in df_test['request_text_n_title']]\n",
    "# print df_test['request_text_n_title'].head()\n",
    "\n",
    "#create test set\n",
    "test_features = df_test['request_text_n_title'].values # text features\n",
    "\n",
    "#create new training set using all 4040 training samples\n",
    "train_features = df['request_text_n_title'].values\n",
    "train_labels = df['requester_received_pizza'].values\n",
    "\n",
    "#shuffle our data to ensure randomization\n",
    "shuffle = np.random.permutation(len(train_features))\n",
    "train_features, train_labels = train_features[shuffle], train_labels[shuffle]\n",
    "\n",
    "\n",
    "#transform raw data into Tfdif vector\n",
    "vec = TfidfVectorizer(stop_words='english',sublinear_tf=1, max_features=387)\n",
    "train_matrix = vec.fit_transform(train_features)\n",
    "test_matrix = vec.transform(test_features)\n",
    "\n",
    "#fit Logistic Regression model\n",
    "lr= LogisticRegression(n_jobs=-1, class_weight='balanced').fit(train_matrix, train_labels)\n",
    "test_predictions = lr.predict(test_matrix)[:, np.newaxis]\n",
    "\n",
    "# print type(predictions_test)\n",
    "sub_1 = np.append(df_test['request_id'].values[:, np.newaxis], test_predictions, axis = 1)\n",
    "sub_1_df = pd.DataFrame(data=sub_1, columns=['request_id', 'requester_received_pizza'])  # 1st row as the column names\n",
    "sub_1_df.to_csv(\"submission_1.csv\", sep=',', header=True,  mode='w', index=0)\n",
    "\n",
    "\n",
    "\"\"\"With this submission, we get  a AUC score of 0.59386\"\"\"\n",
    "\n",
    "print \"Kaggle submission 1, result AUC  = 0.59386\""
   ]
  },
  {
   "cell_type": "code",
   "execution_count": 28,
   "metadata": {
    "collapsed": true
   },
   "outputs": [],
   "source": [
    "\"\"\"The 2nd submission, we define a function process\n",
    "to process the train and test json files\n",
    "\n",
    "This function use the file name and the max number of feature tuned previously.\n",
    "The output of process function depends on if it's train or test set\n",
    "\"\"\"\n",
    "\n",
    "\n",
    "def process(filename,max_feature_length,train=True):\n",
    "\n",
    "    df = pd.read_json(filename)\n",
    "    \n",
    "    df['request_text_n_title'] = (df['request_title'] + ' ' + df['request_text_edit_aware'])\n",
    "    \n",
    "    \n",
    "    df['request_text_n_title'] = [ text.split(\" \",1)[1].lower() for text in df['request_text_n_title']]\n",
    "    #total length\n",
    "    df['total_length'] =df['request_text_n_title'].apply(lambda x: len(x.split(' ')))\n",
    "    \n",
    "    #get engineer features\n",
    "    \n",
    "    # image included?\n",
    "    df['image_incl'] = np.where(df['request_text_n_title'].str.contains(\"imgur\"), int(1), int(0))\n",
    "    #Karma\n",
    "    df['karma'] = df['requester_account_age_in_days_at_request']\\\n",
    "                 + df['requester_days_since_first_post_on_raop_at_request']\\\n",
    "                 + df['requester_number_of_comments_at_request'] + df['requester_number_of_comments_in_raop_at_request'] + \\\n",
    "                df['requester_number_of_posts_at_request'] + df['requester_number_of_posts_on_raop_at_request'] + \\\n",
    "                df['requester_number_of_subreddits_at_request'] + df['requester_upvotes_minus_downvotes_at_request']\n",
    "    \n",
    "    \n",
    "    df['karma_low'] = np.where(df['karma'] < 15, 1, 0)\n",
    "    \n",
    "    \n",
    "    # time\n",
    "    df['day']=df['unix_timestamp_of_request_utc'].apply(lambda x:int(datetime.datetime.fromtimestamp(int(x)).strftime('%d')))\n",
    "    df['time']=df['unix_timestamp_of_request'].apply(lambda x:int(datetime.datetime.fromtimestamp(int(x)).strftime('%H')))\n",
    "    df['first_half'] = np.where(df['day'] < 16, 1, 0)\n",
    "    \n",
    "    # requester's attitude\n",
    "    df['requester_grateful'] = np.where(df['request_text_n_title'].\n",
    "                               str.contains('thanks' or 'advance' or 'guy'\\\n",
    "                                            or 'reading' or 'anyone' or 'anything'\\\n",
    "                                           'story'or 'tonight'or 'favor'or'craving'), \n",
    "                                            int(1), int(0))\n",
    "\n",
    "    df['requester_payback'] = np.where(df['request_text_n_title'].\n",
    "                               str.contains('return' or 'pay it back' or 'pay it forward' or 'favor'), int(1), int(0))\n",
    "\n",
    "    #narrative\n",
    "    # Define narrative categories\n",
    "    narratives = {\n",
    "                'money':['money','now','broke','week','until','time',\n",
    "                          'last','day','when','today','tonight','paid',\n",
    "                          'next','first','night','night','after','tomorrow',\n",
    "                          'while','account','before','long','friday','rent',\n",
    "                          'buy','bank','still','bills','ago','cash','due',\n",
    "                          'soon','past','never','paycheck','check','spent',\n",
    "                          'year','years','poor','till','yesterday','morning',\n",
    "                          'dollars','financial','hour','bill','evening','credit',\n",
    "                          'budget','loan','bucks','deposit','dollar','current','payed'],\n",
    "                 'job':['work','job','paycheck','unemployment','interviewed',\n",
    "                       'fired','employment','hired','hire'],\n",
    "                 'student':['college','student','school','roommate','studying',\n",
    "                           'study','university','finals','semester','class','project',\n",
    "                           'dorm','tuition'],\n",
    "                 'family': ['family','mom','wife','parents','mother','husband','dad','son',\n",
    "                         'daughter','father','parent','mum','children','starving','hungry'],\n",
    "                 'craving': ['friend','girlfriend','birthday','boyfriend','celebrate',\n",
    "                          'party','game','games','movie','movies','date','drunk',\n",
    "                          'beer','celebrating','invited','drinks','crave','wasted','invited']\n",
    "                }\n",
    "\n",
    "    # function to extract word count for each narrative from one text post\n",
    "    # normalize by the word count of that post\n",
    "    def single_extract(text):  \n",
    "        count = {'money':0.,\n",
    "                'job':0.,\n",
    "                'student':0.,\n",
    "                'family':0.,\n",
    "                'craving':0.}\n",
    "        words = text.split(' ')\n",
    "        length = 1./len(words)\n",
    "        for word in text.split(' '):\n",
    "            for i,k in narratives.items():\n",
    "                if word in k:\n",
    "                    count[i] += length\n",
    "        return count.values()\n",
    "\n",
    "    # Extract request_text_n_title field\n",
    "    texts = df['request_text_n_title'].copy()\n",
    "\n",
    "    #initialize count \n",
    "    count =[]\n",
    "    # return normalized count for each narrative from all requests\n",
    "    for text in texts:\n",
    "        count.append(single_extract(text))\n",
    "\n",
    "    # narrative dataframe\n",
    "    narrative = pd.DataFrame(count)\n",
    "    # set up median for using with the test set\n",
    "\n",
    "    #extract narrative field\n",
    "    for i,k in enumerate(narratives.keys()):\n",
    "        narrative['narrative_'+k] = (narrative[i] > np.median(narrative[i])).astype(int)\n",
    "        narrative.drop([i],axis=1,inplace=True)\n",
    "\n",
    "    # concatenate \n",
    "    df = pd.concat([df,narrative],axis=1)\n",
    "    \n",
    "    \n",
    "    continuous_list = ['total_length','time']\n",
    "    # include relevant binary variables and avoid overfitting\n",
    "    binary_list = ['requester_grateful','narrative_job',\n",
    "              'narrative_family', 'narrative_craving',\n",
    "              'image_incl']\n",
    "    \n",
    "    #create new DataFrame using previously defined \"numeric_features\" object to determine all columns in the DF\n",
    "\n",
    "    continuous_features = df.copy().loc[:,continuous_list]\n",
    "    \n",
    "    engineered_features = pd.concat([df[binary_list],continuous_features],axis=1)\n",
    "\n",
    "    \n",
    "    if train==True:\n",
    "        # binarize sucess\n",
    "        # combine title and text\n",
    "        df['requester_received_pizza'] = np.where(df['requester_received_pizza'] == True, 1, 0)\n",
    "            # Get vectorized fields\n",
    "        vec = TfidfVectorizer(stop_words='english',sublinear_tf=1, max_features=max_feature_length)\n",
    "        text_features = df['request_text_n_title'].values.copy()\n",
    "        vectorized_matrix = vec.fit_transform(text_features)\n",
    "        target = df['requester_received_pizza']\n",
    "        return vec, vectorized_matrix, engineered_features, target\n",
    "    else:\n",
    "\n",
    "        text_features = df['request_text_n_title'].values.copy()\n",
    "        request_id = df['request_id']\n",
    "        return request_id,text_features, engineered_features\n",
    "\n"
   ]
  },
  {
   "cell_type": "code",
   "execution_count": 29,
   "metadata": {},
   "outputs": [
    {
     "name": "stdout",
     "output_type": "stream",
     "text": [
      "Kaggle submission 2, result AUC  = 0.60278\n"
     ]
    }
   ],
   "source": [
    "\n",
    "# process train.json get vectorizer, train_tfid matrix, engineered features, and target\n",
    "vec, train_tfid_matrix, train_engr_features,train_target = process('train.json',best_max_feature)\n",
    "\n",
    "# Model 2 on combined tfid_matrix and engr features\n",
    "combined_features = np.append(train_engr_features.values, train_tfid_matrix.toarray(), axis = 1)\n",
    "\n",
    "lr2 = LogisticRegression(n_jobs=-1,class_weight='balanced',penalty = 'l2').fit(combined_features, train_target)\n",
    "\n",
    "# get test\n",
    "request_id,test_text_features, test_engr_features = process('test.json',best_max_feature,train=False)\n",
    "\n",
    "test_tfid_matrix = vec.transform(test_text_features)\n",
    "\n",
    "combined_test_features = np.append(test_engr_features.values,test_tfid_matrix.toarray(),axis=1)\n",
    "\n",
    "#  predict\n",
    "\n",
    "predict2 = lr2.predict(combined_test_features)[:,np.newaxis]\n",
    "\n",
    "# print type(predictions_test)\n",
    "sub_2 = np.append(request_id.values[:, np.newaxis], predict2, axis = 1)\n",
    "sub_2_df = pd.DataFrame(data=sub_2, columns=['request_id', 'requester_received_pizza'])  # 1st row as the column names\n",
    "sub_2_df.to_csv(\"submission_2.csv\", sep=',', header=True,  mode='w', index=0)\n",
    "\n",
    "\n",
    "\"\"\"We achieved AUC of 0.60278 with this submission\"\"\"\n",
    "\n",
    "print \"Kaggle submission 2, result AUC  = 0.60278\""
   ]
  },
  {
   "cell_type": "markdown",
   "metadata": {
    "collapsed": true
   },
   "source": [
    "# Conclusions\n",
    "\n",
    "### We chose logistic regression as our final classifier. The simple implementation of the classifier with our tuned max number of TDIDFvectorizer features resulted in AUC of  59%. We engineered some additional features from the request text and improved the AUC score by 1%.\n"
   ]
  }
 ],
 "metadata": {
  "kernelspec": {
   "display_name": "Python 2",
   "language": "python",
   "name": "python2"
  },
  "language_info": {
   "codemirror_mode": {
    "name": "ipython",
    "version": 2
   },
   "file_extension": ".py",
   "mimetype": "text/x-python",
   "name": "python",
   "nbconvert_exporter": "python",
   "pygments_lexer": "ipython2",
   "version": "2.7.13"
  }
 },
 "nbformat": 4,
 "nbformat_minor": 2
}
